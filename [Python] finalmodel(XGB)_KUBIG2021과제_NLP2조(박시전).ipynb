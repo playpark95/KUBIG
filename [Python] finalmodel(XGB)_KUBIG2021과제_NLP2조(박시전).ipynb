{
 "cells": [
  {
   "cell_type": "markdown",
   "metadata": {
    "id": "VGrwq2NjCmXc"
   },
   "source": [
    "### Import Libraries"
   ]
  },
  {
   "cell_type": "code",
   "execution_count": 41,
   "metadata": {
    "id": "4iBRX7aiCmXn"
   },
   "outputs": [],
   "source": [
    "# to load, access, process and dump json files\n",
    "import json\n",
    "# regular expression\n",
    "import re\n",
    "# to parse HTML contents\n",
    "from bs4 import BeautifulSoup\n",
    "\n",
    "# for numerical analysis\n",
    "import numpy as np \n",
    "# to store and process in a dataframe\n",
    "import pandas as pd \n",
    "\n",
    "# for ploting graphs\n",
    "import matplotlib.pyplot as plt\n",
    "# advanced ploting\n",
    "import seaborn as sns\n",
    "# to create word clouds\n",
    "from wordcloud import WordCloud, STOPWORDS \n",
    "# to eliminate stopwords\n",
    "from nltk.corpus import stopwords\n",
    "from sklearn.feature_extraction.text import ENGLISH_STOP_WORDS\n",
    "\n",
    "\n",
    "# To encode values\n",
    "from sklearn.preprocessing import LabelEncoder\n",
    "# Convert a collection of text documents to a matrix of token counts\n",
    "from sklearn.feature_extraction.text import CountVectorizer, TfidfTransformer, TfidfVectorizer\n",
    "# confusion matrix\n",
    "from sklearn.metrics import confusion_matrix\n",
    "# train test split\n",
    "from sklearn.model_selection import train_test_split\n",
    "\n",
    "# for machine learning\n",
    "from sklearn.linear_model import LogisticRegression\n",
    "LR = LogisticRegression()\n",
    "\n",
    "# for deep learning \n",
    "import tensorflow as tf\n",
    "# to tokenize text\n",
    "from tensorflow.keras.preprocessing.text import Tokenizer\n",
    "# to pad sequence \n",
    "from tensorflow.keras.preprocessing.sequence import pad_sequences\n",
    "#word2vec\n",
    "from gensim.models import Word2Vec\n"
   ]
  },
  {
   "cell_type": "markdown",
   "metadata": {
    "id": "QUSC_NjXCmXp"
   },
   "source": [
    "### Dataset"
   ]
  },
  {
   "cell_type": "code",
   "execution_count": 10,
   "metadata": {
    "id": "CiY_dBrRCmXp"
   },
   "outputs": [
    {
     "name": "stdout",
     "output_type": "stream",
     "text": [
      "No. of rows and columns : (54879, 3)\n"
     ]
    },
    {
     "data": {
      "text/html": [
       "<div>\n",
       "<style scoped>\n",
       "    .dataframe tbody tr th:only-of-type {\n",
       "        vertical-align: middle;\n",
       "    }\n",
       "\n",
       "    .dataframe tbody tr th {\n",
       "        vertical-align: top;\n",
       "    }\n",
       "\n",
       "    .dataframe thead th {\n",
       "        text-align: right;\n",
       "    }\n",
       "</style>\n",
       "<table border=\"1\" class=\"dataframe\">\n",
       "  <thead>\n",
       "    <tr style=\"text-align: right;\">\n",
       "      <th></th>\n",
       "      <th>index</th>\n",
       "      <th>text</th>\n",
       "    </tr>\n",
       "  </thead>\n",
       "  <tbody>\n",
       "    <tr>\n",
       "      <th>0</th>\n",
       "      <td>0</td>\n",
       "      <td>“Not at all. I think she is one of the most ch...</td>\n",
       "    </tr>\n",
       "    <tr>\n",
       "      <th>1</th>\n",
       "      <td>1</td>\n",
       "      <td>\"No,\" replied he, with sudden consciousness, \"...</td>\n",
       "    </tr>\n",
       "    <tr>\n",
       "      <th>2</th>\n",
       "      <td>2</td>\n",
       "      <td>As the lady had stated her intention of scream...</td>\n",
       "    </tr>\n",
       "    <tr>\n",
       "      <th>3</th>\n",
       "      <td>3</td>\n",
       "      <td>“And then suddenly in the silence I heard a so...</td>\n",
       "    </tr>\n",
       "    <tr>\n",
       "      <th>4</th>\n",
       "      <td>4</td>\n",
       "      <td>His conviction remained unchanged. So far as I...</td>\n",
       "    </tr>\n",
       "  </tbody>\n",
       "</table>\n",
       "</div>"
      ],
      "text/plain": [
       "   index                                               text\n",
       "0      0  “Not at all. I think she is one of the most ch...\n",
       "1      1  \"No,\" replied he, with sudden consciousness, \"...\n",
       "2      2  As the lady had stated her intention of scream...\n",
       "3      3  “And then suddenly in the silence I heard a so...\n",
       "4      4  His conviction remained unchanged. So far as I..."
      ]
     },
     "execution_count": 10,
     "metadata": {},
     "output_type": "execute_result"
    }
   ],
   "source": [
    "train = pd.read_csv(\"C:/Users/serin/Desktop/data_/train.csv\")\n",
    "test = pd.read_csv(\"C:/Users/serin/Desktop/data_/test_x.csv\")\n",
    "print('No. of rows and columns :', train.shape)\n",
    "train.head()\n",
    "test.head()"
   ]
  },
  {
   "cell_type": "markdown",
   "metadata": {
    "id": "N5mPPi4ZC9Tl"
   },
   "source": [
    "**(1) nltk 불용어 제거**"
   ]
  },
  {
   "cell_type": "code",
   "execution_count": 12,
   "metadata": {
    "id": "mDvlyBgDCmXq"
   },
   "outputs": [
    {
     "name": "stderr",
     "output_type": "stream",
     "text": [
      "[nltk_data] Downloading package stopwords to\n",
      "[nltk_data]     C:\\Users\\serin\\AppData\\Roaming\\nltk_data...\n",
      "[nltk_data]   Unzipping corpora\\stopwords.zip.\n"
     ]
    }
   ],
   "source": [
    "# Stopwords list from https://github.com/Yoast/YoastSEO.js/blob/develop/src/config/stopwords.js\n",
    "import nltk\n",
    "nltk.download('stopwords')\n",
    "from nltk.corpus import stopwords\n",
    "my_stopwords = [ \"a\", \"about\", \"above\", \"after\", \"again\", \"against\", \"all\", \"am\", \"an\", \"and\", \"any\", \"are\", \"as\", \"at\", \"be\", \"because\", \"been\", \"before\", \"being\", \"below\", \"between\", \"both\", \"but\", \"by\", \"could\", \"did\", \"do\", \"does\", \"doing\", \"down\", \"during\", \"each\", \"few\", \"for\", \"from\", \"further\", \"had\", \"has\", \"have\", \"having\", \"he\", \"he'd\", \"he'll\", \"he's\", \"her\", \"here\", \"here's\", \"hers\", \"herself\", \"him\", \"himself\", \"his\", \"how\", \"how's\", \"i\", \"i'd\", \"i'll\", \"i'm\", \"i've\", \"if\", \"in\", \"into\", \"is\", \"it\", \"it's\", \"its\", \"itself\", \"let's\", \"me\", \"more\", \"most\", \"my\", \"myself\", \"nor\", \"of\", \"on\", \"once\", \"only\", \"or\", \"other\", \"ought\", \"our\", \"ours\", \"ourselves\", \"out\", \"over\", \"own\", \"same\", \"she\", \"she'd\", \"she'll\", \"she's\", \"should\", \"so\", \"some\", \"such\", \"than\", \"that\", \"that's\", \"the\", \"their\", \"theirs\", \"them\", \"themselves\", \"then\", \"there\", \"there's\", \"these\", \"they\", \"they'd\", \"they'll\", \"they're\", \"they've\", \"this\", \"those\", \"through\", \"to\", \"too\", \"under\", \"until\", \"up\", \"very\", \"was\", \"we\", \"we'd\", \"we'll\", \"we're\", \"we've\", \"were\", \"what\", \"what's\", \"when\", \"when's\", \"where\", \"where's\", \"which\", \"while\", \"who\", \"who's\", \"whom\", \"why\", \"why's\", \"with\", \"would\", \"you\", \"you'd\", \"you'll\", \"you're\", \"you've\", \"your\", \"yours\", \"yourself\", \"yourselves\" ]\n",
    "nltk_stopwords = set(stopwords.words('english'))\n",
    "\n",
    "stopwords_list = my_stopwords + stopwords.words('english') \n",
    "stopwords_list = list(set(stopwords_list))\n",
    "\n",
    "\n",
    "stopwords = nltk_stopwords.union(my_stopwords)"
   ]
  },
  {
   "cell_type": "markdown",
   "metadata": {
    "id": "5sDoYhbfCmXr"
   },
   "source": [
    "nltk의 word_tokenize는 we've의 경우 we 와 've 로 두개의 토큰으로 that's 의 경우 that 과 's 로 두개의 토큰으로 분리하여 위의 불용어 리스트를 활용하면 제거를 한다고 해도 제대로 제거가 되지 않을 것  \n",
    "\n",
    "그래서 불용어도 nltk의 word_tokenize를 활용해 한 번 분리를 한 형태를 활용"
   ]
  },
  {
   "cell_type": "code",
   "execution_count": 13,
   "metadata": {
    "id": "f6kPjxLR0sqy"
   },
   "outputs": [
    {
     "name": "stderr",
     "output_type": "stream",
     "text": [
      "[nltk_data] Downloading package punkt to\n",
      "[nltk_data]     C:\\Users\\serin\\AppData\\Roaming\\nltk_data...\n",
      "[nltk_data]   Unzipping tokenizers\\punkt.zip.\n"
     ]
    },
    {
     "data": {
      "text/plain": [
       "True"
      ]
     },
     "execution_count": 13,
     "metadata": {},
     "output_type": "execute_result"
    }
   ],
   "source": [
    "import nltk\n",
    "nltk.download('punkt')"
   ]
  },
  {
   "cell_type": "code",
   "execution_count": 14,
   "metadata": {
    "id": "zoTgxY_lCmXr"
   },
   "outputs": [],
   "source": [
    "nltk_fit_stopwords = [] \n",
    "for stopword in stopwords_list:\n",
    "    tokens = nltk.word_tokenize(stopword) \n",
    "    for token in tokens: \n",
    "        nltk_fit_stopwords.append(token) \n",
    "\n",
    "nltk_fit_stopwords = [token.lower() for token in nltk_fit_stopwords]"
   ]
  },
  {
   "cell_type": "code",
   "execution_count": 15,
   "metadata": {
    "id": "pFF_9LVOCmXr"
   },
   "outputs": [],
   "source": [
    "#위에서 만든 불용어를 활용해 특수문자와 불용어를 제거한 토큰을 남기는 함수 생성\n",
    "from tqdm import tqdm\n",
    "import re \n",
    "def alpha_num(text): \n",
    "    text = re.sub('[-=+,#/\\?:^$.@*\\\"※~&%ㆍ!』\\\\‘|\\(\\)\\[\\]\\<\\>`\\“\\”\\'\\\"…》]', '', text) \n",
    "    return re.sub(r\"[^A-Za-z0-9]\\'\", ' ', text) \n",
    "\n",
    "def get_clean_tokens(text_list, stopwords_list):\n",
    "    clean_tokens = [] \n",
    "    \n",
    "    for i in tqdm(range(len(text_list))): \n",
    "        text = text_list[i].lower() \n",
    "        word_tokens = nltk.word_tokenize(text)\n",
    "        word_tokens = [ alpha_num(token) for token in word_tokens if token not in nltk_fit_stopwords]\n",
    "        word_tokens = [word for word in word_tokens if len(word) > 1] \n",
    "        \n",
    "        clean_tokens.append(word_tokens) \n",
    "        \n",
    "    return clean_tokens"
   ]
  },
  {
   "cell_type": "code",
   "execution_count": 16,
   "metadata": {
    "id": "3tnzMICuCmXs"
   },
   "outputs": [
    {
     "name": "stderr",
     "output_type": "stream",
     "text": [
      "100%|██████████████████████████████████████████████████████████████████████████| 54879/54879 [00:38<00:00, 1422.98it/s]\n",
      "100%|███████████████████████████████████████████████████████████████████████████| 19617/19617 [00:27<00:00, 707.73it/s]\n"
     ]
    }
   ],
   "source": [
    "train_text = list(train['text']) \n",
    "test_text = list(test['text'])\n",
    "\n",
    "train_tokens = get_clean_tokens(train_text, stopwords_list) \n",
    "text_tokens = get_clean_tokens(test_text, stopwords_list)"
   ]
  },
  {
   "cell_type": "code",
   "execution_count": 17,
   "metadata": {
    "id": "iqnChMpNCmXs"
   },
   "outputs": [
    {
     "name": "stderr",
     "output_type": "stream",
     "text": [
      "100%|████████████████████████████████████████████████████████████████████████| 54879/54879 [00:00<00:00, 171758.87it/s]\n"
     ]
    },
    {
     "name": "stdout",
     "output_type": "stream",
     "text": [
      "41255\n"
     ]
    }
   ],
   "source": [
    "word_list = [] \n",
    "for i in tqdm(range(len(train_tokens))): \n",
    "    for j in range(len(train_tokens[i])): \n",
    "        word_list.append(train_tokens[i][j])\n",
    "\n",
    "vocab_size = len(list(set(word_list))) \n",
    "print(vocab_size)"
   ]
  },
  {
   "cell_type": "code",
   "execution_count": 18,
   "metadata": {
    "id": "HpZt24FECmXt"
   },
   "outputs": [],
   "source": [
    "from keras_preprocessing.text import Tokenizer #tokenizer에 fit\n",
    "tokenizer = Tokenizer()#, oov_token=oov_tok) \n",
    "tokenizer.fit_on_texts(train_text)\n",
    "word_index = tokenizer.word_index"
   ]
  },
  {
   "cell_type": "markdown",
   "metadata": {
    "id": "6-KYYNOVDShk"
   },
   "source": [
    "**단어의 빈도에 따른 전처리** "
   ]
  },
  {
   "cell_type": "code",
   "execution_count": 19,
   "metadata": {
    "id": "3Q1WNkOXCmXt"
   },
   "outputs": [
    {
     "name": "stdout",
     "output_type": "stream",
     "text": [
      "단어 집합(vocabulary)의 크기 : 42330\n",
      "등장 빈도가 1번 이하인 희귀 단어의 수: 16347\n",
      "단어 집합에서 희귀 단어의 비율: 38.61800141743444\n",
      "전체 등장 빈도에서 희귀 단어 등장 빈도 비율: 0.6867015891552651\n"
     ]
    }
   ],
   "source": [
    "threshold = 2\n",
    "total_cnt = len(tokenizer.word_index) # 단어의 수\n",
    "rare_cnt = 0 # 등장 빈도수가 threshold보다 작은 단어의 개수를 카운트 \n",
    "total_freq = 0 # 훈련 데이터의 전체 단어 빈도수 총 합 \n",
    "rare_freq = 0 # 등장 빈도수가 threshold보다 작은 단어의 등장 빈도수의 총 합\n",
    "\n",
    "# 단어와 빈도수의 쌍(pair)을 key와 value로 받는다. \n",
    "for key, value in tokenizer.word_counts.items(): \n",
    "    total_freq = total_freq + value\n",
    "    \n",
    "    # 단어의 등장 빈도수가 threshold보다 작으면\n",
    "    if(value < threshold):\n",
    "        rare_cnt = rare_cnt + 1 \n",
    "        rare_freq = rare_freq + value\n",
    "        \n",
    "print('단어 집합(vocabulary)의 크기 :',total_cnt)\n",
    "print('등장 빈도가 %s번 이하인 희귀 단어의 수: %s'%(threshold - 1, rare_cnt))\n",
    "print(\"단어 집합에서 희귀 단어의 비율:\", (rare_cnt / total_cnt)*100) \n",
    "print(\"전체 등장 빈도에서 희귀 단어 등장 빈도 비율:\", (rare_freq / total_freq)*100)\n"
   ]
  },
  {
   "cell_type": "code",
   "execution_count": 20,
   "metadata": {
    "id": "vVF-ILoSCmXu"
   },
   "outputs": [
    {
     "name": "stdout",
     "output_type": "stream",
     "text": [
      "단어 집합의 크기 : 25985\n"
     ]
    }
   ],
   "source": [
    "# 전체 단어 개수 중 빈도수 2이하인 단어 개수는 제거.\n",
    "# 0번 패딩 토큰과 1번 OOV 토큰을 고려하여 +2 \n",
    "vocab_size = total_cnt - rare_cnt + 2 \n",
    "print('단어 집합의 크기 :',vocab_size)"
   ]
  },
  {
   "cell_type": "code",
   "execution_count": 21,
   "metadata": {
    "id": "iFytwQi-CmXv"
   },
   "outputs": [],
   "source": [
    "tokenizer = Tokenizer(vocab_size, oov_token = 'OOV') \n",
    "tokenizer.fit_on_texts(train_text) \n",
    "X_train = tokenizer.texts_to_sequences(train_text)\n",
    "X_test = tokenizer.texts_to_sequences(test_text)"
   ]
  },
  {
   "cell_type": "code",
   "execution_count": 22,
   "metadata": {
    "id": "CgLs5T-cCmXw"
   },
   "outputs": [
    {
     "name": "stdout",
     "output_type": "stream",
     "text": [
      "전체 샘플 중 길이가 390 이하인 샘플의 비율: 99.99271123744965\n"
     ]
    }
   ],
   "source": [
    "def below_threshold_len(max_len, nested_list):\n",
    "    cnt = 0\n",
    "    for s in nested_list:\n",
    "        if len(s) <= max_len:\n",
    "            cnt = cnt + 1 \n",
    "    print('전체 샘플 중 길이가 %s 이하인 샘플의 비율: %s'%(max_len, (cnt / len(nested_list))*100))\n",
    "\n",
    "max_len = 390\n",
    "below_threshold_len(max_len,X_train)"
   ]
  },
  {
   "cell_type": "markdown",
   "metadata": {
    "id": "xGDhP1fhENsd"
   },
   "source": [
    "**길이를 동일하게 Padding 하기**"
   ]
  },
  {
   "cell_type": "code",
   "execution_count": 23,
   "metadata": {
    "id": "I__qUVBECmXw"
   },
   "outputs": [
    {
     "name": "stdout",
     "output_type": "stream",
     "text": [
      "25985\n"
     ]
    }
   ],
   "source": [
    "from tensorflow.keras.preprocessing.sequence import pad_sequences \n",
    "X_train = pad_sequences(X_train, maxlen = max_len)\n",
    "X_test = pad_sequences(X_test, maxlen = max_len) \n",
    "\n",
    "import numpy as np \n",
    "y_train = np.array([x for x in train['author']]) \n",
    "print(vocab_size)"
   ]
  },
  {
   "cell_type": "markdown",
   "metadata": {
    "id": "fLS5SnZNDXzu"
   },
   "source": [
    "# XGBOOST"
   ]
  },
  {
   "cell_type": "code",
   "execution_count": 26,
   "metadata": {
    "id": "cO-7GAeQDZhR"
   },
   "outputs": [
    {
     "name": "stdout",
     "output_type": "stream",
     "text": [
      "Requirement already satisfied: textstat in c:\\programdata\\anaconda3\\lib\\site-packages (0.7.0)\n",
      "Requirement already satisfied: pyphen in c:\\programdata\\anaconda3\\lib\\site-packages (from textstat) (0.10.0)\n",
      "Requirement already satisfied: fasttext in c:\\programdata\\anaconda3\\lib\\site-packages (0.9.2)\n",
      "Requirement already satisfied: setuptools>=0.7.0 in c:\\programdata\\anaconda3\\lib\\site-packages (from fasttext) (49.2.0.post20200714)\n",
      "Requirement already satisfied: numpy in c:\\programdata\\anaconda3\\lib\\site-packages (from fasttext) (1.19.5)\n",
      "Requirement already satisfied: pybind11>=2.2 in c:\\programdata\\anaconda3\\lib\\site-packages (from fasttext) (2.6.2)\n"
     ]
    },
    {
     "name": "stderr",
     "output_type": "stream",
     "text": [
      "[nltk_data] Downloading package stopwords to\n",
      "[nltk_data]     C:\\Users\\serin\\AppData\\Roaming\\nltk_data...\n",
      "[nltk_data]   Package stopwords is already up-to-date!\n",
      "[nltk_data] Downloading package stopwords to\n",
      "[nltk_data]     C:\\Users\\serin\\AppData\\Roaming\\nltk_data...\n",
      "[nltk_data]   Package stopwords is already up-to-date!\n",
      "[nltk_data] Downloading package averaged_perceptron_tagger to\n",
      "[nltk_data]     C:\\Users\\serin\\AppData\\Roaming\\nltk_data...\n",
      "[nltk_data]   Unzipping taggers\\averaged_perceptron_tagger.zip.\n",
      "[nltk_data] Downloading package punkt to\n",
      "[nltk_data]     C:\\Users\\serin\\AppData\\Roaming\\nltk_data...\n",
      "[nltk_data]   Package punkt is already up-to-date!\n",
      "[nltk_data] Downloading package vader_lexicon to\n",
      "[nltk_data]     C:\\Users\\serin\\AppData\\Roaming\\nltk_data...\n",
      "[nltk_data] Downloading package maxent_ne_chunker to\n",
      "[nltk_data]     C:\\Users\\serin\\AppData\\Roaming\\nltk_data...\n",
      "[nltk_data]   Unzipping chunkers\\maxent_ne_chunker.zip.\n",
      "[nltk_data] Downloading package words to\n",
      "[nltk_data]     C:\\Users\\serin\\AppData\\Roaming\\nltk_data...\n",
      "[nltk_data]   Unzipping corpora\\words.zip.\n"
     ]
    },
    {
     "data": {
      "text/plain": [
       "True"
      ]
     },
     "execution_count": 26,
     "metadata": {},
     "output_type": "execute_result"
    }
   ],
   "source": [
    "#Import more libraries\n",
    "\n",
    "!pip install textstat\n",
    "!pip install fasttext\n",
    "\n",
    "from textstat import flesch_reading_ease\n",
    "import nltk\n",
    "nltk.download('stopwords')\n",
    "from nltk.corpus import stopwords\n",
    "import string\n",
    "import xgboost as xgb\n",
    "from sklearn.feature_extraction.text import TfidfVectorizer, CountVectorizer\n",
    "from sklearn.decomposition import TruncatedSVD\n",
    "from sklearn import metrics, model_selection, naive_bayes\n",
    "from nltk.sentiment.vader import SentimentIntensityAnalyzer\n",
    "from nltk.tokenize import word_tokenize\n",
    "from nltk.tag import pos_tag\n",
    "from nltk import word_tokenize, pos_tag, ne_chunk, tree2conlltags\n",
    "import fasttext\n",
    "from sklearn.linear_model import LogisticRegression\n",
    "from sklearn.linear_model import SGDClassifier\n",
    "from sklearn.ensemble import RandomForestClassifier\n",
    "from sklearn.neural_network import MLPClassifier\n",
    "from sklearn.tree import DecisionTreeClassifier\n",
    "\n",
    "nltk.download('stopwords')\n",
    "nltk.download('averaged_perceptron_tagger')\n",
    "nltk.download('punkt')\n",
    "nltk.download('vader_lexicon')\n",
    "nltk.download('maxent_ne_chunker')\n",
    "nltk.download('words')"
   ]
  },
  {
   "cell_type": "code",
   "execution_count": 27,
   "metadata": {
    "id": "yc3og4peDluF"
   },
   "outputs": [],
   "source": [
    "# sent2vec 활용 embedding\n",
    "def sent2vec(s):\n",
    "    words = nltk.tokenize.word_tokenize(s)\n",
    "    #words = [k.stem(w) for w in words]\n",
    "    #words = [w for w in words if not w in string.digits]\n",
    "    #words = [w for w in words if w.isalpha()]\n",
    "    M = []\n",
    "    for w in words:\n",
    "        try:\n",
    "            M.append(model_ft[w])\n",
    "        except:\n",
    "            continue\n",
    "    M = np.array(M)\n",
    "    v = M.sum(axis=0)\n",
    "    if type(v) != np.ndarray:\n",
    "        return np.zeros(300)\n",
    "    return v\n",
    "\n",
    "xtrain_ft = np.array([sent2vec(x) for x in train['text']])\n",
    "xtest_ft = np.array([sent2vec(x) for x in test['text']])\n",
    "\n",
    "train_ft=pd.DataFrame(xtrain_ft)\n",
    "train_ft.columns = ['ft_vector_'+str(i) for i in range(xtrain_ft.shape[1])]\n",
    "\n",
    "test_ft=pd.DataFrame(xtest_ft)\n",
    "test_ft.columns = ['ft_vector_'+str(i) for i in range(xtrain_ft.shape[1])]\n",
    "\n",
    "train = pd.concat([train, train_ft], axis=1)\n",
    "test = pd.concat([test, test_ft], axis=1)"
   ]
  },
  {
   "cell_type": "code",
   "execution_count": 30,
   "metadata": {
    "colab": {
     "background_save": true
    },
    "id": "JtbjA0lXD-td"
   },
   "outputs": [
    {
     "name": "stderr",
     "output_type": "stream",
     "text": [
      "C:\\ProgramData\\Anaconda3\\lib\\site-packages\\sklearn\\feature_extraction\\text.py:383: UserWarning: Your stop_words may be inconsistent with your preprocessing. Tokenizing the stop words generated tokens [\"'d\", \"'ll\", \"'re\", \"'s\", \"'ve\", 'could', 'might', 'must', \"n't\", 'need', 'sha', 'wo', 'would'] not in stop_words.\n",
      "  warnings.warn('Your stop_words may be inconsistent with '\n",
      "C:\\ProgramData\\Anaconda3\\lib\\site-packages\\sklearn\\linear_model\\_logistic.py:762: ConvergenceWarning: lbfgs failed to converge (status=1):\n",
      "STOP: TOTAL NO. of ITERATIONS REACHED LIMIT.\n",
      "\n",
      "Increase the number of iterations (max_iter) or scale the data as shown in:\n",
      "    https://scikit-learn.org/stable/modules/preprocessing.html\n",
      "Please also refer to the documentation for alternative solver options:\n",
      "    https://scikit-learn.org/stable/modules/linear_model.html#logistic-regression\n",
      "  n_iter_i = _check_optimize_result(\n",
      "C:\\ProgramData\\Anaconda3\\lib\\site-packages\\sklearn\\linear_model\\_logistic.py:762: ConvergenceWarning: lbfgs failed to converge (status=1):\n",
      "STOP: TOTAL NO. of ITERATIONS REACHED LIMIT.\n",
      "\n",
      "Increase the number of iterations (max_iter) or scale the data as shown in:\n",
      "    https://scikit-learn.org/stable/modules/preprocessing.html\n",
      "Please also refer to the documentation for alternative solver options:\n",
      "    https://scikit-learn.org/stable/modules/linear_model.html#logistic-regression\n",
      "  n_iter_i = _check_optimize_result(\n",
      "C:\\ProgramData\\Anaconda3\\lib\\site-packages\\sklearn\\linear_model\\_logistic.py:762: ConvergenceWarning: lbfgs failed to converge (status=1):\n",
      "STOP: TOTAL NO. of ITERATIONS REACHED LIMIT.\n",
      "\n",
      "Increase the number of iterations (max_iter) or scale the data as shown in:\n",
      "    https://scikit-learn.org/stable/modules/preprocessing.html\n",
      "Please also refer to the documentation for alternative solver options:\n",
      "    https://scikit-learn.org/stable/modules/linear_model.html#logistic-regression\n",
      "  n_iter_i = _check_optimize_result(\n",
      "C:\\ProgramData\\Anaconda3\\lib\\site-packages\\sklearn\\linear_model\\_logistic.py:762: ConvergenceWarning: lbfgs failed to converge (status=1):\n",
      "STOP: TOTAL NO. of ITERATIONS REACHED LIMIT.\n",
      "\n",
      "Increase the number of iterations (max_iter) or scale the data as shown in:\n",
      "    https://scikit-learn.org/stable/modules/preprocessing.html\n",
      "Please also refer to the documentation for alternative solver options:\n",
      "    https://scikit-learn.org/stable/modules/linear_model.html#logistic-regression\n",
      "  n_iter_i = _check_optimize_result(\n",
      "C:\\ProgramData\\Anaconda3\\lib\\site-packages\\sklearn\\linear_model\\_logistic.py:762: ConvergenceWarning: lbfgs failed to converge (status=1):\n",
      "STOP: TOTAL NO. of ITERATIONS REACHED LIMIT.\n",
      "\n",
      "Increase the number of iterations (max_iter) or scale the data as shown in:\n",
      "    https://scikit-learn.org/stable/modules/preprocessing.html\n",
      "Please also refer to the documentation for alternative solver options:\n",
      "    https://scikit-learn.org/stable/modules/linear_model.html#logistic-regression\n",
      "  n_iter_i = _check_optimize_result(\n"
     ]
    },
    {
     "name": "stdout",
     "output_type": "stream",
     "text": [
      "Mean cv score :  0.6793511813779939\n"
     ]
    },
    {
     "name": "stderr",
     "output_type": "stream",
     "text": [
      "C:\\ProgramData\\Anaconda3\\lib\\site-packages\\sklearn\\feature_extraction\\text.py:484: UserWarning: The parameter 'token_pattern' will not be used since 'tokenizer' is not None'\n",
      "  warnings.warn(\"The parameter 'token_pattern' will not be used\"\n",
      "C:\\ProgramData\\Anaconda3\\lib\\site-packages\\sklearn\\feature_extraction\\text.py:383: UserWarning: Your stop_words may be inconsistent with your preprocessing. Tokenizing the stop words generated tokens [\"'d\", \"'ll\", \"'re\", \"'s\", \"'ve\", 'could', 'might', 'must', \"n't\", 'need', 'sha', 'wo', 'would'] not in stop_words.\n",
      "  warnings.warn('Your stop_words may be inconsistent with '\n",
      "C:\\ProgramData\\Anaconda3\\lib\\site-packages\\sklearn\\linear_model\\_logistic.py:762: ConvergenceWarning: lbfgs failed to converge (status=1):\n",
      "STOP: TOTAL NO. of ITERATIONS REACHED LIMIT.\n",
      "\n",
      "Increase the number of iterations (max_iter) or scale the data as shown in:\n",
      "    https://scikit-learn.org/stable/modules/preprocessing.html\n",
      "Please also refer to the documentation for alternative solver options:\n",
      "    https://scikit-learn.org/stable/modules/linear_model.html#logistic-regression\n",
      "  n_iter_i = _check_optimize_result(\n",
      "C:\\ProgramData\\Anaconda3\\lib\\site-packages\\sklearn\\linear_model\\_logistic.py:762: ConvergenceWarning: lbfgs failed to converge (status=1):\n",
      "STOP: TOTAL NO. of ITERATIONS REACHED LIMIT.\n",
      "\n",
      "Increase the number of iterations (max_iter) or scale the data as shown in:\n",
      "    https://scikit-learn.org/stable/modules/preprocessing.html\n",
      "Please also refer to the documentation for alternative solver options:\n",
      "    https://scikit-learn.org/stable/modules/linear_model.html#logistic-regression\n",
      "  n_iter_i = _check_optimize_result(\n",
      "C:\\ProgramData\\Anaconda3\\lib\\site-packages\\sklearn\\linear_model\\_logistic.py:762: ConvergenceWarning: lbfgs failed to converge (status=1):\n",
      "STOP: TOTAL NO. of ITERATIONS REACHED LIMIT.\n",
      "\n",
      "Increase the number of iterations (max_iter) or scale the data as shown in:\n",
      "    https://scikit-learn.org/stable/modules/preprocessing.html\n",
      "Please also refer to the documentation for alternative solver options:\n",
      "    https://scikit-learn.org/stable/modules/linear_model.html#logistic-regression\n",
      "  n_iter_i = _check_optimize_result(\n",
      "C:\\ProgramData\\Anaconda3\\lib\\site-packages\\sklearn\\linear_model\\_logistic.py:762: ConvergenceWarning: lbfgs failed to converge (status=1):\n",
      "STOP: TOTAL NO. of ITERATIONS REACHED LIMIT.\n",
      "\n",
      "Increase the number of iterations (max_iter) or scale the data as shown in:\n",
      "    https://scikit-learn.org/stable/modules/preprocessing.html\n",
      "Please also refer to the documentation for alternative solver options:\n",
      "    https://scikit-learn.org/stable/modules/linear_model.html#logistic-regression\n",
      "  n_iter_i = _check_optimize_result(\n"
     ]
    },
    {
     "name": "stdout",
     "output_type": "stream",
     "text": [
      "Mean cv score :  0.6609595457334769\n"
     ]
    },
    {
     "name": "stderr",
     "output_type": "stream",
     "text": [
      "C:\\ProgramData\\Anaconda3\\lib\\site-packages\\sklearn\\linear_model\\_logistic.py:762: ConvergenceWarning: lbfgs failed to converge (status=1):\n",
      "STOP: TOTAL NO. of ITERATIONS REACHED LIMIT.\n",
      "\n",
      "Increase the number of iterations (max_iter) or scale the data as shown in:\n",
      "    https://scikit-learn.org/stable/modules/preprocessing.html\n",
      "Please also refer to the documentation for alternative solver options:\n",
      "    https://scikit-learn.org/stable/modules/linear_model.html#logistic-regression\n",
      "  n_iter_i = _check_optimize_result(\n"
     ]
    }
   ],
   "source": [
    "# Logistic Regression - (1) TF-IDF 활용\n",
    "tfidf_vec = TfidfVectorizer(tokenizer=word_tokenize, stop_words=stopwords.words('english'), ngram_range=(1, 3), min_df=50)\n",
    "train_tfidf = tfidf_vec.fit_transform(train['text'].values.tolist())\n",
    "test_tfidf = tfidf_vec.transform(test['text'].values.tolist())\n",
    "train_y = train['author']\n",
    "\n",
    "def runLR(train_X,train_y,test_X,test_y,test_X2):\n",
    "    model=LogisticRegression()\n",
    "    model.fit(train_X,train_y)\n",
    "    pred_test_y=model.predict_proba(test_X)\n",
    "    pred_test_y2=model.predict_proba(test_X2)\n",
    "    return pred_test_y, pred_test_y2, model\n",
    "\n",
    "\n",
    "cv_scores=[]\n",
    "cols_to_drop=['text','index']\n",
    "train_X = train.drop(cols_to_drop+['author'], axis=1)\n",
    "train_y=train['author']\n",
    "test_X = test.drop(cols_to_drop, axis=1)\n",
    "pred_train=np.zeros([train.shape[0],5])\n",
    "pred_full_test = 0\n",
    "\n",
    "cv = model_selection.StratifiedKFold(n_splits=5, shuffle=True, random_state=2020)\n",
    "\n",
    "for dev_index, val_index in cv.split(train_X,train_y):\n",
    "    dev_X, val_X = train_tfidf[dev_index], train_tfidf[val_index]\n",
    "    dev_y, val_y = train_y[dev_index], train_y[val_index]\n",
    "    pred_val_y, pred_test_y, model = runLR(dev_X, dev_y, val_X, val_y,test_tfidf)\n",
    "    pred_full_test = pred_full_test + pred_test_y\n",
    "    pred_train[val_index,:] = pred_val_y\n",
    "    cv_scores.append(metrics.log_loss(val_y, pred_val_y))\n",
    "print(\"Mean cv score : \", np.mean(cv_scores))\n",
    "pred_full_test = pred_full_test / 5.\n",
    "\n",
    "train[\"tfidf_LR_0\"] = pred_train[:,0]\n",
    "train[\"tfidf_LR_1\"] = pred_train[:,1]\n",
    "train[\"tfidf_LR_2\"] = pred_train[:,2]\n",
    "train[\"tfidf_LR_3\"] = pred_train[:,3]\n",
    "train[\"tfidf_LR_4\"] = pred_train[:,4]\n",
    "test[\"tfidf_LR_0\"] = pred_full_test[:,0]\n",
    "test[\"tfidf_LR_1\"] = pred_full_test[:,1]\n",
    "test[\"tfidf_LR_2\"] = pred_full_test[:,2]\n",
    "test[\"tfidf_LR_3\"] = pred_full_test[:,3]\n",
    "test[\"tfidf_LR_4\"] = pred_full_test[:,4]\n",
    "\n",
    "# Logistic Regression - (2) CountVectorizer 활용\n",
    "cvec_vec=CountVectorizer(tokenizer=word_tokenize, stop_words=stopwords.words('english'), ngram_range=(1, 3), min_df=50)\n",
    "cvec_vec.fit(train['text'].values.tolist())\n",
    "train_cvec = cvec_vec.transform(train['text'].values.tolist())\n",
    "test_cvec = cvec_vec.transform(test['text'].values.tolist())\n",
    "\n",
    "cv_scores=[]\n",
    "cols_to_drop=['text','index']\n",
    "train_X = train.drop(cols_to_drop+['author'], axis=1)\n",
    "train_y=train['author']\n",
    "test_X = test.drop(cols_to_drop, axis=1)\n",
    "pred_train=np.zeros([train.shape[0],5])\n",
    "pred_full_test = 0\n",
    "\n",
    "cv = model_selection.StratifiedKFold(n_splits=5, shuffle=True, random_state=2020)\n",
    "\n",
    "for dev_index, val_index in cv.split(train_X,train_y):\n",
    "    dev_X, val_X = train_cvec[dev_index], train_cvec[val_index]\n",
    "    dev_y, val_y = train_y[dev_index], train_y[val_index]\n",
    "    pred_val_y, pred_test_y, model = runLR(dev_X, dev_y, val_X, val_y,test_cvec)\n",
    "    pred_full_test = pred_full_test + pred_test_y\n",
    "    pred_train[val_index,:] = pred_val_y\n",
    "    cv_scores.append(metrics.log_loss(val_y, pred_val_y))\n",
    "print(\"Mean cv score : \", np.mean(cv_scores))\n",
    "pred_full_test = pred_full_test / 5.\n",
    "\n",
    "train[\"cvec_LR_0\"] = pred_train[:,0]\n",
    "train[\"cvec_LR_1\"] = pred_train[:,1]\n",
    "train[\"cvec_LR_2\"] = pred_train[:,2]\n",
    "train[\"cvec_LR_3\"] = pred_train[:,3]\n",
    "train[\"cvec_LR_4\"] = pred_train[:,4]\n",
    "test[\"cvec_LR_0\"] = pred_full_test[:,0]\n",
    "test[\"cvec_LR_1\"] = pred_full_test[:,1]\n",
    "test[\"cvec_LR_2\"] = pred_full_test[:,2]\n",
    "test[\"cvec_LR_3\"] = pred_full_test[:,3]\n",
    "test[\"cvec_LR_4\"] = pred_full_test[:,4]\n"
   ]
  },
  {
   "cell_type": "code",
   "execution_count": 29,
   "metadata": {},
   "outputs": [
    {
     "data": {
      "text/html": [
       "<div>\n",
       "<style scoped>\n",
       "    .dataframe tbody tr th:only-of-type {\n",
       "        vertical-align: middle;\n",
       "    }\n",
       "\n",
       "    .dataframe tbody tr th {\n",
       "        vertical-align: top;\n",
       "    }\n",
       "\n",
       "    .dataframe thead th {\n",
       "        text-align: right;\n",
       "    }\n",
       "</style>\n",
       "<table border=\"1\" class=\"dataframe\">\n",
       "  <thead>\n",
       "    <tr style=\"text-align: right;\">\n",
       "      <th></th>\n",
       "      <th>index</th>\n",
       "      <th>text</th>\n",
       "      <th>author</th>\n",
       "      <th>ft_vector_0</th>\n",
       "      <th>ft_vector_1</th>\n",
       "      <th>ft_vector_2</th>\n",
       "      <th>ft_vector_3</th>\n",
       "      <th>ft_vector_4</th>\n",
       "      <th>ft_vector_5</th>\n",
       "      <th>ft_vector_6</th>\n",
       "      <th>...</th>\n",
       "      <th>tfidf_LR_0</th>\n",
       "      <th>tfidf_LR_1</th>\n",
       "      <th>tfidf_LR_2</th>\n",
       "      <th>tfidf_LR_3</th>\n",
       "      <th>tfidf_LR_4</th>\n",
       "      <th>cvec_LR_0</th>\n",
       "      <th>cvec_LR_1</th>\n",
       "      <th>cvec_LR_2</th>\n",
       "      <th>cvec_LR_3</th>\n",
       "      <th>cvec_LR_4</th>\n",
       "    </tr>\n",
       "  </thead>\n",
       "  <tbody>\n",
       "    <tr>\n",
       "      <th>0</th>\n",
       "      <td>0</td>\n",
       "      <td>He was almost choking. There was so much, so m...</td>\n",
       "      <td>3</td>\n",
       "      <td>0.0</td>\n",
       "      <td>0.0</td>\n",
       "      <td>0.0</td>\n",
       "      <td>0.0</td>\n",
       "      <td>0.0</td>\n",
       "      <td>0.0</td>\n",
       "      <td>0.0</td>\n",
       "      <td>...</td>\n",
       "      <td>0.075877</td>\n",
       "      <td>0.035700</td>\n",
       "      <td>0.022182</td>\n",
       "      <td>0.833310</td>\n",
       "      <td>0.032931</td>\n",
       "      <td>3.702075e-03</td>\n",
       "      <td>1.101278e-03</td>\n",
       "      <td>5.580499e-04</td>\n",
       "      <td>9.939627e-01</td>\n",
       "      <td>6.759153e-04</td>\n",
       "    </tr>\n",
       "    <tr>\n",
       "      <th>1</th>\n",
       "      <td>1</td>\n",
       "      <td>“Your sister asked for it, I suppose?”</td>\n",
       "      <td>2</td>\n",
       "      <td>0.0</td>\n",
       "      <td>0.0</td>\n",
       "      <td>0.0</td>\n",
       "      <td>0.0</td>\n",
       "      <td>0.0</td>\n",
       "      <td>0.0</td>\n",
       "      <td>0.0</td>\n",
       "      <td>...</td>\n",
       "      <td>0.336796</td>\n",
       "      <td>0.378455</td>\n",
       "      <td>0.044617</td>\n",
       "      <td>0.200717</td>\n",
       "      <td>0.039415</td>\n",
       "      <td>5.281849e-01</td>\n",
       "      <td>2.850943e-01</td>\n",
       "      <td>1.522189e-02</td>\n",
       "      <td>1.602757e-01</td>\n",
       "      <td>1.122320e-02</td>\n",
       "    </tr>\n",
       "    <tr>\n",
       "      <th>2</th>\n",
       "      <td>2</td>\n",
       "      <td>She was engaged one day as she walked, in per...</td>\n",
       "      <td>1</td>\n",
       "      <td>0.0</td>\n",
       "      <td>0.0</td>\n",
       "      <td>0.0</td>\n",
       "      <td>0.0</td>\n",
       "      <td>0.0</td>\n",
       "      <td>0.0</td>\n",
       "      <td>0.0</td>\n",
       "      <td>...</td>\n",
       "      <td>0.057485</td>\n",
       "      <td>0.932075</td>\n",
       "      <td>0.001597</td>\n",
       "      <td>0.007465</td>\n",
       "      <td>0.001378</td>\n",
       "      <td>1.199645e-05</td>\n",
       "      <td>9.999879e-01</td>\n",
       "      <td>1.685501e-09</td>\n",
       "      <td>8.094511e-08</td>\n",
       "      <td>6.755655e-10</td>\n",
       "    </tr>\n",
       "    <tr>\n",
       "      <th>3</th>\n",
       "      <td>3</td>\n",
       "      <td>The captain was in the porch, keeping himself ...</td>\n",
       "      <td>4</td>\n",
       "      <td>0.0</td>\n",
       "      <td>0.0</td>\n",
       "      <td>0.0</td>\n",
       "      <td>0.0</td>\n",
       "      <td>0.0</td>\n",
       "      <td>0.0</td>\n",
       "      <td>0.0</td>\n",
       "      <td>...</td>\n",
       "      <td>0.011476</td>\n",
       "      <td>0.005192</td>\n",
       "      <td>0.064296</td>\n",
       "      <td>0.002829</td>\n",
       "      <td>0.916207</td>\n",
       "      <td>9.565941e-07</td>\n",
       "      <td>2.003313e-07</td>\n",
       "      <td>3.820260e-04</td>\n",
       "      <td>3.261215e-08</td>\n",
       "      <td>9.996168e-01</td>\n",
       "    </tr>\n",
       "    <tr>\n",
       "      <th>4</th>\n",
       "      <td>4</td>\n",
       "      <td>“Have mercy, gentlemen!” odin flung up his han...</td>\n",
       "      <td>3</td>\n",
       "      <td>0.0</td>\n",
       "      <td>0.0</td>\n",
       "      <td>0.0</td>\n",
       "      <td>0.0</td>\n",
       "      <td>0.0</td>\n",
       "      <td>0.0</td>\n",
       "      <td>0.0</td>\n",
       "      <td>...</td>\n",
       "      <td>0.004025</td>\n",
       "      <td>0.000758</td>\n",
       "      <td>0.001995</td>\n",
       "      <td>0.990822</td>\n",
       "      <td>0.002400</td>\n",
       "      <td>9.217776e-07</td>\n",
       "      <td>5.622939e-08</td>\n",
       "      <td>3.613226e-07</td>\n",
       "      <td>9.999986e-01</td>\n",
       "      <td>6.670245e-08</td>\n",
       "    </tr>\n",
       "  </tbody>\n",
       "</table>\n",
       "<p>5 rows × 313 columns</p>\n",
       "</div>"
      ],
      "text/plain": [
       "   index                                               text  author  \\\n",
       "0      0  He was almost choking. There was so much, so m...       3   \n",
       "1      1             “Your sister asked for it, I suppose?”       2   \n",
       "2      2   She was engaged one day as she walked, in per...       1   \n",
       "3      3  The captain was in the porch, keeping himself ...       4   \n",
       "4      4  “Have mercy, gentlemen!” odin flung up his han...       3   \n",
       "\n",
       "   ft_vector_0  ft_vector_1  ft_vector_2  ft_vector_3  ft_vector_4  \\\n",
       "0          0.0          0.0          0.0          0.0          0.0   \n",
       "1          0.0          0.0          0.0          0.0          0.0   \n",
       "2          0.0          0.0          0.0          0.0          0.0   \n",
       "3          0.0          0.0          0.0          0.0          0.0   \n",
       "4          0.0          0.0          0.0          0.0          0.0   \n",
       "\n",
       "   ft_vector_5  ft_vector_6  ...  tfidf_LR_0  tfidf_LR_1  tfidf_LR_2  \\\n",
       "0          0.0          0.0  ...    0.075877    0.035700    0.022182   \n",
       "1          0.0          0.0  ...    0.336796    0.378455    0.044617   \n",
       "2          0.0          0.0  ...    0.057485    0.932075    0.001597   \n",
       "3          0.0          0.0  ...    0.011476    0.005192    0.064296   \n",
       "4          0.0          0.0  ...    0.004025    0.000758    0.001995   \n",
       "\n",
       "   tfidf_LR_3  tfidf_LR_4     cvec_LR_0     cvec_LR_1     cvec_LR_2  \\\n",
       "0    0.833310    0.032931  3.702075e-03  1.101278e-03  5.580499e-04   \n",
       "1    0.200717    0.039415  5.281849e-01  2.850943e-01  1.522189e-02   \n",
       "2    0.007465    0.001378  1.199645e-05  9.999879e-01  1.685501e-09   \n",
       "3    0.002829    0.916207  9.565941e-07  2.003313e-07  3.820260e-04   \n",
       "4    0.990822    0.002400  9.217776e-07  5.622939e-08  3.613226e-07   \n",
       "\n",
       "      cvec_LR_3     cvec_LR_4  \n",
       "0  9.939627e-01  6.759153e-04  \n",
       "1  1.602757e-01  1.122320e-02  \n",
       "2  8.094511e-08  6.755655e-10  \n",
       "3  3.261215e-08  9.996168e-01  \n",
       "4  9.999986e-01  6.670245e-08  \n",
       "\n",
       "[5 rows x 313 columns]"
      ]
     },
     "execution_count": 29,
     "metadata": {},
     "output_type": "execute_result"
    }
   ],
   "source": [
    "train.head()"
   ]
  },
  {
   "cell_type": "code",
   "execution_count": 31,
   "metadata": {
    "colab": {
     "background_save": true
    },
    "id": "F5rHn6IoEwzk"
   },
   "outputs": [
    {
     "name": "stderr",
     "output_type": "stream",
     "text": [
      "C:\\ProgramData\\Anaconda3\\lib\\site-packages\\sklearn\\feature_extraction\\text.py:383: UserWarning: Your stop_words may be inconsistent with your preprocessing. Tokenizing the stop words generated tokens [\"'d\", \"'ll\", \"'re\", \"'s\", \"'ve\", 'could', 'might', 'must', \"n't\", 'need', 'sha', 'wo', 'would'] not in stop_words.\n",
      "  warnings.warn('Your stop_words may be inconsistent with '\n"
     ]
    },
    {
     "name": "stdout",
     "output_type": "stream",
     "text": [
      "Mean cv score :  0.883483410696884\n",
      "Mean cv score :  1.5153734769989802\n"
     ]
    }
   ],
   "source": [
    "# SGD Classifier - (1) TF-IDF 활용\n",
    "tfidf_vec = TfidfVectorizer(tokenizer=word_tokenize, stop_words=stopwords.words('english'), ngram_range=(1, 3), min_df=50)\n",
    "\n",
    "train_tfidf = tfidf_vec.fit_transform(train['text'].values.tolist())\n",
    "test_tfidf = tfidf_vec.transform(test['text'].values.tolist())\n",
    "train_y = train['author']\n",
    "\n",
    "def runSGD(train_X,train_y,test_X,test_y,test_X2):\n",
    "    model=SGDClassifier(loss='log')\n",
    "    model.fit(train_X,train_y)\n",
    "    pred_test_y=model.predict_proba(test_X)\n",
    "    pred_test_y2=model.predict_proba(test_X2)\n",
    "    return pred_test_y, pred_test_y2, model\n",
    "\n",
    "cv_scores=[]\n",
    "cols_to_drop=['text','index']\n",
    "train_X = train.drop(cols_to_drop+['author'], axis=1)\n",
    "train_y=train['author']\n",
    "test_X = test.drop(cols_to_drop, axis=1)\n",
    "pred_train=np.zeros([train.shape[0],5])\n",
    "pred_full_test = 0\n",
    "\n",
    "cv = model_selection.StratifiedKFold(n_splits=5, shuffle=True, random_state=2020)\n",
    "\n",
    "for dev_index, val_index in cv.split(train_X,train_y):\n",
    "    dev_X, val_X = train_tfidf[dev_index], train_tfidf[val_index]\n",
    "    dev_y, val_y = train_y[dev_index], train_y[val_index]\n",
    "    pred_val_y, pred_test_y, model = runSGD(dev_X, dev_y, val_X, val_y,test_tfidf)\n",
    "    pred_full_test = pred_full_test + pred_test_y\n",
    "    pred_train[val_index,:] = pred_val_y\n",
    "    cv_scores.append(metrics.log_loss(val_y, pred_val_y))\n",
    "print(\"Mean cv score : \", np.mean(cv_scores))\n",
    "pred_full_test = pred_full_test / 5.\n",
    "\n",
    "train[\"tfidf_SGD_0\"] = pred_train[:,0]\n",
    "train[\"tfidf_SGD_1\"] = pred_train[:,1]\n",
    "train[\"tfidf_SGD_2\"] = pred_train[:,2]\n",
    "train[\"tfidf_SGD_3\"] = pred_train[:,3]\n",
    "train[\"tfidf_SGD_4\"] = pred_train[:,4]\n",
    "test[\"tfidf_SGD_0\"] = pred_full_test[:,0]\n",
    "test[\"tfidf_SGD_1\"] = pred_full_test[:,1]\n",
    "test[\"tfidf_SGD_2\"] = pred_full_test[:,2]\n",
    "test[\"tfidf_SGD_3\"] = pred_full_test[:,3]\n",
    "test[\"tfidf_SGD_4\"] = pred_full_test[:,4]\n",
    "\n",
    "# SGD Classifier - (2) CountVectorizer 활용\n",
    "cvec_char_vec = CountVectorizer(ngram_range=(1,7), analyzer='char')\n",
    "cvec_char_vec.fit(train['text'].values.tolist())\n",
    "train_cvec_char = cvec_char_vec.transform(train['text'].values.tolist())\n",
    "test_cvec_char = cvec_char_vec.transform(test['text'].values.tolist())\n",
    "\n",
    "cv_scores=[]\n",
    "cols_to_drop=['text','index']\n",
    "train_X = train.drop(cols_to_drop+['author'], axis=1)\n",
    "train_y=train['author']\n",
    "test_X = test.drop(cols_to_drop, axis=1)\n",
    "pred_train=np.zeros([train.shape[0],5])\n",
    "pred_full_test = 0\n",
    "\n",
    "cv = model_selection.StratifiedKFold(n_splits=5, shuffle=True, random_state=2020)\n",
    "\n",
    "for dev_index, val_index in cv.split(train_X,train_y):\n",
    "    dev_X, val_X = train_cvec_char[dev_index], train_cvec_char[val_index]\n",
    "    dev_y, val_y = train_y[dev_index], train_y[val_index]\n",
    "    pred_val_y, pred_test_y, model = runSGD(dev_X, dev_y, val_X, val_y,test_cvec_char)\n",
    "    pred_full_test = pred_full_test + pred_test_y\n",
    "    pred_train[val_index,:] = pred_val_y\n",
    "    cv_scores.append(metrics.log_loss(val_y, pred_val_y))\n",
    "print(\"Mean cv score : \", np.mean(cv_scores))\n",
    "pred_full_test = pred_full_test / 5.\n",
    "\n",
    "train[\"cvec_char_SGD_0\"] = pred_train[:,0]\n",
    "train[\"cvec_char_SGD_1\"] = pred_train[:,1]\n",
    "train[\"cvec_char_SGD_2\"] = pred_train[:,2]\n",
    "train[\"cvec_char_SGD_3\"] = pred_train[:,3]\n",
    "train[\"cvec_char_SGD_4\"] = pred_train[:,4]\n",
    "test[\"cvec_char_SGD_0\"] = pred_full_test[:,0]\n",
    "test[\"cvec_char_SGD_1\"] = pred_full_test[:,1]\n",
    "test[\"cvec_char_SGD_2\"] = pred_full_test[:,2]\n",
    "test[\"cvec_char_SGD_3\"] = pred_full_test[:,3]\n",
    "test[\"cvec_char_SGD_4\"] = pred_full_test[:,4]"
   ]
  },
  {
   "cell_type": "code",
   "execution_count": 33,
   "metadata": {
    "colab": {
     "base_uri": "https://localhost:8080/"
    },
    "id": "Qp2X1G0-E5Jg",
    "outputId": "fccf37da-265d-4dc3-8090-c65e8bff8a10"
   },
   "outputs": [
    {
     "name": "stderr",
     "output_type": "stream",
     "text": [
      "C:\\ProgramData\\Anaconda3\\lib\\site-packages\\sklearn\\feature_extraction\\text.py:383: UserWarning: Your stop_words may be inconsistent with your preprocessing. Tokenizing the stop words generated tokens [\"'d\", \"'ll\", \"'re\", \"'s\", \"'ve\", 'could', 'might', 'must', \"n't\", 'need', 'sha', 'wo', 'would'] not in stop_words.\n",
      "  warnings.warn('Your stop_words may be inconsistent with '\n"
     ]
    },
    {
     "name": "stdout",
     "output_type": "stream",
     "text": [
      "Mean cv score :  0.9692561375828612\n"
     ]
    }
   ],
   "source": [
    "# RandomForestClassifier -  TF-IDF 활용\n",
    "tfidf_vec = TfidfVectorizer(tokenizer=word_tokenize, stop_words=stopwords.words('english'), ngram_range=(1, 3), min_df=50)\n",
    "\n",
    "train_tfidf = tfidf_vec.fit_transform(train['text'].values.tolist())\n",
    "test_tfidf = tfidf_vec.transform(test['text'].values.tolist())\n",
    "train_y = train['author']\n",
    "\n",
    "def runRF(train_X,train_y,test_X,test_y,test_X2):\n",
    "    model=RandomForestClassifier()\n",
    "    model.fit(train_X,train_y)\n",
    "    pred_test_y=model.predict_proba(test_X)\n",
    "    pred_test_y2=model.predict_proba(test_X2)\n",
    "    return pred_test_y, pred_test_y2, model\n",
    "\n",
    "\n",
    "cv_scores=[]\n",
    "cols_to_drop=['text','index']\n",
    "train_X = train.drop(cols_to_drop+['author'], axis=1)\n",
    "train_y=train['author']\n",
    "test_X = test.drop(cols_to_drop, axis=1)\n",
    "pred_train=np.zeros([train.shape[0],5])\n",
    "pred_full_test = 0\n",
    "\n",
    "cv = model_selection.StratifiedKFold(n_splits=5, shuffle=True, random_state=2020)\n",
    "\n",
    "for dev_index, val_index in cv.split(train_X,train_y):\n",
    "    dev_X, val_X = train_tfidf[dev_index], train_tfidf[val_index]\n",
    "    dev_y, val_y = train_y[dev_index], train_y[val_index]\n",
    "    pred_val_y, pred_test_y, model = runRF(dev_X, dev_y, val_X, val_y,test_tfidf)\n",
    "    pred_full_test = pred_full_test + pred_test_y\n",
    "    pred_train[val_index,:] = pred_val_y\n",
    "    cv_scores.append(metrics.log_loss(val_y, pred_val_y))\n",
    "print(\"Mean cv score : \", np.mean(cv_scores))\n",
    "pred_full_test = pred_full_test / 5.\n",
    "\n",
    "train[\"tfidf_RF_0\"] = pred_train[:,0]\n",
    "train[\"tfidf_RF_1\"] = pred_train[:,1]\n",
    "train[\"tfidf_RF_2\"] = pred_train[:,2]\n",
    "train[\"tfidf_RF_3\"] = pred_train[:,3]\n",
    "train[\"tfidf_RF_4\"] = pred_train[:,4]\n",
    "test[\"tfidf_RF_0\"] = pred_full_test[:,0]\n",
    "test[\"tfidf_RF_1\"] = pred_full_test[:,1]\n",
    "test[\"tfidf_RF_2\"] = pred_full_test[:,2]\n",
    "test[\"tfidf_RF_3\"] = pred_full_test[:,3]\n",
    "test[\"tfidf_RF_4\"] = pred_full_test[:,4]\n",
    "\n",
    "\n"
   ]
  },
  {
   "cell_type": "code",
   "execution_count": null,
   "metadata": {},
   "outputs": [],
   "source": [
    "# countvectorization Random Forest 방식으로, 너무 시간이 오래 걸려서 생략\n",
    "#cvec_char_vec = CountVectorizer(ngram_range=(1,7), analyzer='char')\n",
    "#cvec_char_vec.fit(train['text'].values.tolist())\n",
    "#train_cvec_char = cvec_char_vec.transform(train['text'].values.tolist())\n",
    "#test_cvec_char = cvec_char_vec.transform(test['text'].values.tolist())\n",
    "\n",
    "#cv_scores=[]\n",
    "#cols_to_drop=['text','index']\n",
    "#train_X = train.drop(cols_to_drop+['author'], axis=1)\n",
    "#train_y=train['author']\n",
    "#test_X = test.drop(cols_to_drop, axis=1)\n",
    "#pred_train=np.zeros([train.shape[0],5])\n",
    "#pred_full_test = 0\n",
    "\n",
    "#cv = model_selection.StratifiedKFold(n_splits=5, shuffle=True, random_state=2020)\n",
    "\n",
    "#for dev_index, val_index in cv.split(train_X,train_y):\n",
    "   # dev_X, val_X = train_cvec_char[dev_index], train_cvec_char[val_index]\n",
    "    #dev_y, val_y = train_y[dev_index], train_y[val_index]\n",
    "    #pred_val_y, pred_test_y, model = runRF(dev_X, dev_y, val_X, val_y,test_cvec_char)\n",
    "    #pred_full_test = pred_full_test + pred_test_y\n",
    "    #pred_train[val_index,:] = pred_val_y\n",
    "    #cv_scores.append(metrics.log_loss(val_y, pred_val_y))\n",
    "#print(\"Mean cv score : \", np.mean(cv_scores))\n",
    "#pred_full_test = pred_full_test / 5.\n",
    "\n",
    "#train[\"cvec_char_RF_0\"] = pred_train[:,0]\n",
    "#train[\"cvec_char_RF_1\"] = pred_train[:,1]\n",
    "#train[\"cvec_char_RF_2\"] = pred_train[:,2]\n",
    "#train[\"cvec_char_RF_3\"] = pred_train[:,3]\n",
    "#train[\"cvec_char_RF_4\"] = pred_train[:,4]\n",
    "#test[\"cvec_char_RF_0\"] = pred_full_test[:,0]\n",
    "#test[\"cvec_char_RF_1\"] = pred_full_test[:,1]\n",
    "#test[\"cvec_char_RF_2\"] = pred_full_test[:,2]\n",
    "#test[\"cvec_char_RF_3\"] = pred_full_test[:,3]\n",
    "#test[\"cvec_char_RF_4\"] = pred_full_test[:,4]"
   ]
  },
  {
   "cell_type": "code",
   "execution_count": 37,
   "metadata": {},
   "outputs": [],
   "source": [
    "tfidf_vec=TfidfVectorizer(stop_words='english',ngram_range=(1,3))\n",
    "train_tfidf= tfidf_vec.fit_transform(train['text'].values.tolist())\n",
    "test_tfidf = tfidf_vec.transform(test['text'].values.tolist())\n",
    "\n",
    "n_comp = 20\n",
    "svd_obj = TruncatedSVD(n_components=n_comp, algorithm='arpack')\n",
    "svd_obj.fit(train_tfidf)\n",
    "\n",
    "train_svd = svd_obj.transform(train_tfidf)\n",
    "test_svd = svd_obj.transform(test_tfidf)\n",
    "\n",
    "from sklearn import preprocessing\n",
    "scl = preprocessing.StandardScaler()\n",
    "scl.fit(train_svd)\n",
    "train_svd_scl = pd.DataFrame(scl.transform(train_svd))\n",
    "test_svd_scl = pd.DataFrame(scl.transform(test_svd))\n",
    "\n",
    "train_svd_scl.columns = ['svd_word_'+str(i) for i in range(n_comp)]\n",
    "test_svd_scl.columns = ['svd_word_'+str(i) for i in range(n_comp)]\n",
    "train = pd.concat([train, train_svd_scl], axis=1)\n",
    "test = pd.concat([test, test_svd_scl], axis=1)"
   ]
  },
  {
   "cell_type": "code",
   "execution_count": 34,
   "metadata": {
    "id": "f1sk00U5Fkz8"
   },
   "outputs": [
    {
     "name": "stdout",
     "output_type": "stream",
     "text": [
      "Mean cv score :  1.0237504297527562\n"
     ]
    }
   ],
   "source": [
    "# Naive Bayes model\n",
    "def runMNB(train_X,train_y,test_X,test_y,test_X2):\n",
    "    model=naive_bayes.MultinomialNB()\n",
    "    model.fit(train_X,train_y)\n",
    "    pred_test_y=model.predict_proba(test_X)\n",
    "    pred_test_y2=model.predict_proba(test_X2)\n",
    "    return pred_test_y, pred_test_y2, model\n",
    "\n",
    "Count_vec=CountVectorizer(stop_words='english',ngram_range=(1,3))\n",
    "\n",
    "Count_vec.fit(train['text'].values.tolist())\n",
    "train_Count = Count_vec.transform(train['text'].values.tolist())\n",
    "test_Count = Count_vec.transform(test['text'].values.tolist())\n",
    "\n",
    "cv_scores=[]\n",
    "pred_train=np.zeros([train.shape[0],5])\n",
    "pred_full_test = 0\n",
    "\n",
    "kf = model_selection.KFold(n_splits=5, shuffle=True, random_state=2020)\n",
    "\n",
    "for dev_index, val_index in kf.split(train_X):\n",
    "    dev_X, val_X = train_Count[dev_index], train_Count[val_index]\n",
    "    dev_y, val_y = train_y[dev_index], train_y[val_index]\n",
    "    pred_val_y, pred_test_y, model = runMNB(dev_X, dev_y, val_X, val_y,test_Count)\n",
    "    pred_full_test = pred_full_test + pred_test_y\n",
    "    pred_train[val_index,:] = pred_val_y\n",
    "    cv_scores.append(metrics.log_loss(val_y, pred_val_y))\n",
    "print(\"Mean cv score : \", np.mean(cv_scores))\n",
    "pred_full_test = pred_full_test / 5.\n",
    "\n",
    "train[\"nb_cvec_0\"] = pred_train[:,0]\n",
    "train[\"nb_cvec_1\"] = pred_train[:,1]\n",
    "train[\"nb_cvec_2\"] = pred_train[:,2]\n",
    "train[\"nb_cvec_3\"] = pred_train[:,3]\n",
    "train[\"nb_cvec_4\"] = pred_train[:,4]\n",
    "test[\"nb_cvec_0\"] = pred_full_test[:,0]\n",
    "test[\"nb_cvec_1\"] = pred_full_test[:,1]\n",
    "test[\"nb_cvec_2\"] = pred_full_test[:,2]\n",
    "test[\"nb_cvec_3\"] = pred_full_test[:,3]\n",
    "test[\"nb_cvec_4\"] = pred_full_test[:,4]"
   ]
  },
  {
   "cell_type": "code",
   "execution_count": 36,
   "metadata": {
    "id": "odQzW72xT-6f"
   },
   "outputs": [
    {
     "name": "stdout",
     "output_type": "stream",
     "text": [
      "Mean cv score :  5.360513297314131\n"
     ]
    }
   ],
   "source": [
    "cvec_char_vec = CountVectorizer(ngram_range=(1,7), analyzer='char')\n",
    "cvec_char_vec.fit(train['text'].values.tolist())\n",
    "train_cvec_char = cvec_char_vec.transform(train['text'].values.tolist())\n",
    "test_cvec_char = cvec_char_vec.transform(test['text'].values.tolist())\n",
    "\n",
    "cv_scores = []\n",
    "pred_full_test = 0\n",
    "pred_train = np.zeros([train.shape[0], 5])\n",
    "kf = model_selection.KFold(n_splits=5, shuffle=True, random_state=2020)\n",
    "for dev_index, val_index in kf.split(train_X):\n",
    "    dev_X, val_X = train_cvec_char[dev_index], train_cvec_char[val_index]\n",
    "    dev_y, val_y = train_y[dev_index], train_y[val_index]\n",
    "    pred_val_y, pred_test_y, model = runMNB(dev_X, dev_y, val_X, val_y, test_cvec_char)\n",
    "    pred_full_test = pred_full_test + pred_test_y\n",
    "    pred_train[val_index,:] = pred_val_y\n",
    "    cv_scores.append(metrics.log_loss(val_y, pred_val_y))\n",
    "print(\"Mean cv score : \", np.mean(cv_scores))\n",
    "pred_full_test = pred_full_test / 5.\n",
    "\n",
    "train[\"nb_cvec_char_0\"] = pred_train[:,0]\n",
    "train[\"nb_cvec_char_1\"] = pred_train[:,1]\n",
    "train[\"nb_cvec_char_2\"] = pred_train[:,2]\n",
    "train[\"nb_cvec_char_3\"] = pred_train[:,3]\n",
    "train[\"nb_cvec_char_4\"] = pred_train[:,4]\n",
    "test[\"nb_cvec_char_0\"] = pred_full_test[:,0]\n",
    "test[\"nb_cvec_char_1\"] = pred_full_test[:,1]\n",
    "test[\"nb_cvec_char_2\"] = pred_full_test[:,2]\n",
    "test[\"nb_cvec_char_3\"] = pred_full_test[:,3]\n",
    "test[\"nb_cvec_char_4\"] = pred_full_test[:,4]"
   ]
  },
  {
   "cell_type": "code",
   "execution_count": 35,
   "metadata": {
    "id": "6raLvfYfUFfI"
   },
   "outputs": [
    {
     "name": "stdout",
     "output_type": "stream",
     "text": [
      "Mean cv score :  1.6974170014530536\n"
     ]
    }
   ],
   "source": [
    "tfidf_vec = TfidfVectorizer(ngram_range=(1,5), analyzer='char')\n",
    "\n",
    "train_tfidf = tfidf_vec.fit_transform(train['text'].values.tolist())\n",
    "test_tfidf = tfidf_vec.transform(test['text'].values.tolist())\n",
    "\n",
    "cv_scores = []\n",
    "pred_full_test = 0\n",
    "pred_train = np.zeros([train.shape[0], 5])\n",
    "kf = model_selection.KFold(n_splits=5, shuffle=True, random_state=2020)\n",
    "for dev_index, val_index in kf.split(train_X):\n",
    "    dev_X, val_X = train_tfidf[dev_index], train_tfidf[val_index]\n",
    "    dev_y, val_y = train_y[dev_index], train_y[val_index]\n",
    "    pred_val_y, pred_test_y, model = runMNB(dev_X, dev_y, val_X, val_y, test_tfidf)\n",
    "    pred_full_test = pred_full_test + pred_test_y\n",
    "    pred_train[val_index,:] = pred_val_y\n",
    "    cv_scores.append(metrics.log_loss(val_y, pred_val_y))\n",
    "print(\"Mean cv score : \", np.mean(cv_scores))\n",
    "pred_full_test = pred_full_test / 5.\n",
    "\n",
    "\n",
    "train[\"nb_tfidf_char_0\"] = pred_train[:,0]\n",
    "train[\"nb_tfidf_char_1\"] = pred_train[:,1]\n",
    "train[\"nb_tfidf_char_2\"] = pred_train[:,2]\n",
    "train[\"nb_tfidf_char_3\"] = pred_train[:,3]\n",
    "train[\"nb_tfidf_char_4\"] = pred_train[:,4]\n",
    "test[\"nb_tfidf_char_0\"] = pred_full_test[:,0]\n",
    "test[\"nb_tfidf_char_1\"] = pred_full_test[:,1]\n",
    "test[\"nb_tfidf_char_2\"] = pred_full_test[:,2]\n",
    "test[\"nb_tfidf_char_3\"] = pred_full_test[:,3]\n",
    "test[\"nb_tfidf_char_4\"] = pred_full_test[:,4]"
   ]
  },
  {
   "cell_type": "code",
   "execution_count": 38,
   "metadata": {
    "id": "3sfdAdqDUHYr"
   },
   "outputs": [],
   "source": [
    "# SVD \n",
    "n_comp = 20\n",
    "svd_obj = TruncatedSVD(n_components=n_comp, algorithm='arpack')\n",
    "svd_obj.fit(train_tfidf)\n",
    "\n",
    "train_svd = svd_obj.transform(train_tfidf)\n",
    "test_svd = svd_obj.transform(test_tfidf)\n",
    "\n",
    "from sklearn import preprocessing\n",
    "scl = preprocessing.StandardScaler()\n",
    "scl.fit(train_svd)\n",
    "train_svd_scl = pd.DataFrame(scl.transform(train_svd))\n",
    "test_svd_scl = pd.DataFrame(scl.transform(test_svd))\n",
    "\n",
    "train_svd_scl.columns = ['svd_char_'+str(i) for i in range(n_comp)]\n",
    "test_svd_scl.columns = ['svd_char_'+str(i) for i in range(n_comp)]\n",
    "train = pd.concat([train, train_svd_scl], axis=1)\n",
    "test = pd.concat([test, test_svd_scl], axis=1)"
   ]
  },
  {
   "cell_type": "code",
   "execution_count": 62,
   "metadata": {
    "id": "x7mhmCthUKdd"
   },
   "outputs": [
    {
     "name": "stdout",
     "output_type": "stream",
     "text": [
      "[14:01:33] WARNING: C:/Users/Administrator/workspace/xgboost-win64_release_1.3.0/src/learner.cc:222: No visible GPU is found, setting `gpu_id` to -1\n",
      "[14:01:33] WARNING: C:/Users/Administrator/workspace/xgboost-win64_release_1.3.0/src/learner.cc:541: \n",
      "Parameters: { silent } might not be used.\n",
      "\n",
      "  This may not be accurate due to some parameters are only used in language bindings but\n",
      "  passed down to XGBoost core.  Or some parameters are not used but slip through this\n",
      "  verification. Please open an issue if you find above cases.\n",
      "\n",
      "\n",
      "[0]\ttrain-mlogloss:1.47090\tvalid-mlogloss:1.47034\n",
      "[20]\ttrain-mlogloss:0.56349\tvalid-mlogloss:0.56504\n",
      "[40]\ttrain-mlogloss:0.43860\tvalid-mlogloss:0.44449\n",
      "[60]\ttrain-mlogloss:0.40483\tvalid-mlogloss:0.41591\n",
      "[80]\ttrain-mlogloss:0.38792\tvalid-mlogloss:0.40467\n",
      "[100]\ttrain-mlogloss:0.37591\tvalid-mlogloss:0.39826\n",
      "[120]\ttrain-mlogloss:0.36621\tvalid-mlogloss:0.39347\n",
      "[140]\ttrain-mlogloss:0.35799\tvalid-mlogloss:0.39023\n",
      "[160]\ttrain-mlogloss:0.35084\tvalid-mlogloss:0.38824\n",
      "[180]\ttrain-mlogloss:0.34439\tvalid-mlogloss:0.38669\n",
      "[200]\ttrain-mlogloss:0.33835\tvalid-mlogloss:0.38511\n",
      "[220]\ttrain-mlogloss:0.33281\tvalid-mlogloss:0.38404\n",
      "[240]\ttrain-mlogloss:0.32746\tvalid-mlogloss:0.38342\n",
      "[260]\ttrain-mlogloss:0.32258\tvalid-mlogloss:0.38267\n",
      "[280]\ttrain-mlogloss:0.31787\tvalid-mlogloss:0.38230\n",
      "[300]\ttrain-mlogloss:0.31337\tvalid-mlogloss:0.38188\n",
      "[320]\ttrain-mlogloss:0.30877\tvalid-mlogloss:0.38128\n",
      "[340]\ttrain-mlogloss:0.30477\tvalid-mlogloss:0.38121\n",
      "[360]\ttrain-mlogloss:0.30070\tvalid-mlogloss:0.38108\n",
      "[380]\ttrain-mlogloss:0.29667\tvalid-mlogloss:0.38085\n",
      "[400]\ttrain-mlogloss:0.29261\tvalid-mlogloss:0.38055\n",
      "[420]\ttrain-mlogloss:0.28890\tvalid-mlogloss:0.38051\n",
      "[440]\ttrain-mlogloss:0.28515\tvalid-mlogloss:0.38039\n",
      "[460]\ttrain-mlogloss:0.28175\tvalid-mlogloss:0.38047\n",
      "[480]\ttrain-mlogloss:0.27827\tvalid-mlogloss:0.38076\n",
      "[481]\ttrain-mlogloss:0.27807\tvalid-mlogloss:0.38077\n",
      "[14:04:26] WARNING: C:/Users/Administrator/workspace/xgboost-win64_release_1.3.0/src/learner.cc:222: No visible GPU is found, setting `gpu_id` to -1\n",
      "[14:04:26] WARNING: C:/Users/Administrator/workspace/xgboost-win64_release_1.3.0/src/learner.cc:541: \n",
      "Parameters: { silent } might not be used.\n",
      "\n",
      "  This may not be accurate due to some parameters are only used in language bindings but\n",
      "  passed down to XGBoost core.  Or some parameters are not used but slip through this\n",
      "  verification. Please open an issue if you find above cases.\n",
      "\n",
      "\n",
      "[0]\ttrain-mlogloss:1.47102\tvalid-mlogloss:1.47295\n",
      "[20]\ttrain-mlogloss:0.56200\tvalid-mlogloss:0.57058\n",
      "[40]\ttrain-mlogloss:0.43737\tvalid-mlogloss:0.44957\n",
      "[60]\ttrain-mlogloss:0.40386\tvalid-mlogloss:0.41998\n",
      "[80]\ttrain-mlogloss:0.38708\tvalid-mlogloss:0.40798\n",
      "[100]\ttrain-mlogloss:0.37532\tvalid-mlogloss:0.40088\n",
      "[120]\ttrain-mlogloss:0.36553\tvalid-mlogloss:0.39595\n",
      "[140]\ttrain-mlogloss:0.35742\tvalid-mlogloss:0.39248\n",
      "[160]\ttrain-mlogloss:0.34998\tvalid-mlogloss:0.39019\n",
      "[180]\ttrain-mlogloss:0.34357\tvalid-mlogloss:0.38877\n",
      "[200]\ttrain-mlogloss:0.33757\tvalid-mlogloss:0.38692\n",
      "[220]\ttrain-mlogloss:0.33223\tvalid-mlogloss:0.38616\n",
      "[240]\ttrain-mlogloss:0.32694\tvalid-mlogloss:0.38513\n",
      "[260]\ttrain-mlogloss:0.32198\tvalid-mlogloss:0.38471\n",
      "[280]\ttrain-mlogloss:0.31742\tvalid-mlogloss:0.38397\n",
      "[300]\ttrain-mlogloss:0.31290\tvalid-mlogloss:0.38361\n",
      "[320]\ttrain-mlogloss:0.30845\tvalid-mlogloss:0.38313\n",
      "[340]\ttrain-mlogloss:0.30420\tvalid-mlogloss:0.38263\n",
      "[360]\ttrain-mlogloss:0.30019\tvalid-mlogloss:0.38233\n",
      "[380]\ttrain-mlogloss:0.29632\tvalid-mlogloss:0.38216\n",
      "[400]\ttrain-mlogloss:0.29232\tvalid-mlogloss:0.38208\n",
      "[420]\ttrain-mlogloss:0.28847\tvalid-mlogloss:0.38193\n",
      "[440]\ttrain-mlogloss:0.28465\tvalid-mlogloss:0.38173\n",
      "[460]\ttrain-mlogloss:0.28090\tvalid-mlogloss:0.38135\n",
      "[480]\ttrain-mlogloss:0.27740\tvalid-mlogloss:0.38134\n",
      "[500]\ttrain-mlogloss:0.27416\tvalid-mlogloss:0.38145\n",
      "[511]\ttrain-mlogloss:0.27222\tvalid-mlogloss:0.38162\n",
      "[14:07:43] WARNING: C:/Users/Administrator/workspace/xgboost-win64_release_1.3.0/src/learner.cc:222: No visible GPU is found, setting `gpu_id` to -1\n",
      "[14:07:43] WARNING: C:/Users/Administrator/workspace/xgboost-win64_release_1.3.0/src/learner.cc:541: \n",
      "Parameters: { silent } might not be used.\n",
      "\n",
      "  This may not be accurate due to some parameters are only used in language bindings but\n",
      "  passed down to XGBoost core.  Or some parameters are not used but slip through this\n",
      "  verification. Please open an issue if you find above cases.\n",
      "\n",
      "\n",
      "[0]\ttrain-mlogloss:1.47009\tvalid-mlogloss:1.47129\n",
      "[20]\ttrain-mlogloss:0.56206\tvalid-mlogloss:0.57081\n",
      "[40]\ttrain-mlogloss:0.43809\tvalid-mlogloss:0.44900\n",
      "[60]\ttrain-mlogloss:0.40468\tvalid-mlogloss:0.41904\n",
      "[80]\ttrain-mlogloss:0.38772\tvalid-mlogloss:0.40635\n",
      "[100]\ttrain-mlogloss:0.37611\tvalid-mlogloss:0.39900\n",
      "[120]\ttrain-mlogloss:0.36651\tvalid-mlogloss:0.39345\n",
      "[140]\ttrain-mlogloss:0.35839\tvalid-mlogloss:0.38981\n",
      "[160]\ttrain-mlogloss:0.35133\tvalid-mlogloss:0.38659\n",
      "[180]\ttrain-mlogloss:0.34498\tvalid-mlogloss:0.38413\n",
      "[200]\ttrain-mlogloss:0.33901\tvalid-mlogloss:0.38247\n",
      "[220]\ttrain-mlogloss:0.33343\tvalid-mlogloss:0.38125\n",
      "[240]\ttrain-mlogloss:0.32810\tvalid-mlogloss:0.37997\n",
      "[260]\ttrain-mlogloss:0.32319\tvalid-mlogloss:0.37909\n",
      "[280]\ttrain-mlogloss:0.31854\tvalid-mlogloss:0.37862\n",
      "[300]\ttrain-mlogloss:0.31396\tvalid-mlogloss:0.37791\n",
      "[320]\ttrain-mlogloss:0.30967\tvalid-mlogloss:0.37748\n",
      "[340]\ttrain-mlogloss:0.30565\tvalid-mlogloss:0.37721\n",
      "[360]\ttrain-mlogloss:0.30166\tvalid-mlogloss:0.37657\n",
      "[380]\ttrain-mlogloss:0.29787\tvalid-mlogloss:0.37597\n",
      "[400]\ttrain-mlogloss:0.29401\tvalid-mlogloss:0.37541\n",
      "[420]\ttrain-mlogloss:0.29023\tvalid-mlogloss:0.37546\n",
      "[440]\ttrain-mlogloss:0.28641\tvalid-mlogloss:0.37529\n",
      "[460]\ttrain-mlogloss:0.28269\tvalid-mlogloss:0.37501\n",
      "[480]\ttrain-mlogloss:0.27928\tvalid-mlogloss:0.37471\n",
      "[500]\ttrain-mlogloss:0.27577\tvalid-mlogloss:0.37458\n",
      "[520]\ttrain-mlogloss:0.27231\tvalid-mlogloss:0.37471\n",
      "[540]\ttrain-mlogloss:0.26899\tvalid-mlogloss:0.37461\n",
      "[560]\ttrain-mlogloss:0.26573\tvalid-mlogloss:0.37452\n",
      "[580]\ttrain-mlogloss:0.26245\tvalid-mlogloss:0.37434\n",
      "[600]\ttrain-mlogloss:0.25917\tvalid-mlogloss:0.37431\n",
      "[620]\ttrain-mlogloss:0.25622\tvalid-mlogloss:0.37428\n",
      "[640]\ttrain-mlogloss:0.25326\tvalid-mlogloss:0.37458\n",
      "[660]\ttrain-mlogloss:0.25020\tvalid-mlogloss:0.37474\n",
      "[668]\ttrain-mlogloss:0.24912\tvalid-mlogloss:0.37473\n",
      "[14:12:11] WARNING: C:/Users/Administrator/workspace/xgboost-win64_release_1.3.0/src/learner.cc:222: No visible GPU is found, setting `gpu_id` to -1\n",
      "[14:12:11] WARNING: C:/Users/Administrator/workspace/xgboost-win64_release_1.3.0/src/learner.cc:541: \n",
      "Parameters: { silent } might not be used.\n",
      "\n",
      "  This may not be accurate due to some parameters are only used in language bindings but\n",
      "  passed down to XGBoost core.  Or some parameters are not used but slip through this\n",
      "  verification. Please open an issue if you find above cases.\n",
      "\n",
      "\n",
      "[0]\ttrain-mlogloss:1.47030\tvalid-mlogloss:1.47111\n",
      "[20]\ttrain-mlogloss:0.55958\tvalid-mlogloss:0.57692\n",
      "[40]\ttrain-mlogloss:0.43472\tvalid-mlogloss:0.45867\n",
      "[60]\ttrain-mlogloss:0.40153\tvalid-mlogloss:0.43102\n",
      "[80]\ttrain-mlogloss:0.38462\tvalid-mlogloss:0.41884\n",
      "[100]\ttrain-mlogloss:0.37301\tvalid-mlogloss:0.41227\n",
      "[120]\ttrain-mlogloss:0.36319\tvalid-mlogloss:0.40711\n",
      "[140]\ttrain-mlogloss:0.35497\tvalid-mlogloss:0.40326\n",
      "[160]\ttrain-mlogloss:0.34789\tvalid-mlogloss:0.40059\n",
      "[180]\ttrain-mlogloss:0.34128\tvalid-mlogloss:0.39863\n",
      "[200]\ttrain-mlogloss:0.33525\tvalid-mlogloss:0.39728\n",
      "[220]\ttrain-mlogloss:0.32973\tvalid-mlogloss:0.39650\n",
      "[240]\ttrain-mlogloss:0.32455\tvalid-mlogloss:0.39520\n",
      "[260]\ttrain-mlogloss:0.31963\tvalid-mlogloss:0.39446\n",
      "[280]\ttrain-mlogloss:0.31496\tvalid-mlogloss:0.39393\n",
      "[300]\ttrain-mlogloss:0.31054\tvalid-mlogloss:0.39376\n",
      "[320]\ttrain-mlogloss:0.30599\tvalid-mlogloss:0.39324\n",
      "[340]\ttrain-mlogloss:0.30171\tvalid-mlogloss:0.39314\n",
      "[360]\ttrain-mlogloss:0.29749\tvalid-mlogloss:0.39269\n",
      "[380]\ttrain-mlogloss:0.29366\tvalid-mlogloss:0.39264\n",
      "[400]\ttrain-mlogloss:0.28982\tvalid-mlogloss:0.39247\n",
      "[420]\ttrain-mlogloss:0.28595\tvalid-mlogloss:0.39221\n",
      "[440]\ttrain-mlogloss:0.28233\tvalid-mlogloss:0.39211\n",
      "[460]\ttrain-mlogloss:0.27868\tvalid-mlogloss:0.39204\n",
      "[480]\ttrain-mlogloss:0.27510\tvalid-mlogloss:0.39213\n",
      "[500]\ttrain-mlogloss:0.27148\tvalid-mlogloss:0.39228\n",
      "[520]\ttrain-mlogloss:0.26808\tvalid-mlogloss:0.39220\n",
      "[14:15:43] WARNING: C:/Users/Administrator/workspace/xgboost-win64_release_1.3.0/src/learner.cc:222: No visible GPU is found, setting `gpu_id` to -1\n",
      "[14:15:43] WARNING: C:/Users/Administrator/workspace/xgboost-win64_release_1.3.0/src/learner.cc:541: \n",
      "Parameters: { silent } might not be used.\n",
      "\n",
      "  This may not be accurate due to some parameters are only used in language bindings but\n",
      "  passed down to XGBoost core.  Or some parameters are not used but slip through this\n",
      "  verification. Please open an issue if you find above cases.\n",
      "\n",
      "\n",
      "[0]\ttrain-mlogloss:1.45530\tvalid-mlogloss:1.45583\n",
      "[20]\ttrain-mlogloss:0.55735\tvalid-mlogloss:0.55845\n",
      "[40]\ttrain-mlogloss:0.44024\tvalid-mlogloss:0.44460\n",
      "[60]\ttrain-mlogloss:0.40667\tvalid-mlogloss:0.41474\n",
      "[80]\ttrain-mlogloss:0.39021\tvalid-mlogloss:0.40251\n",
      "[100]\ttrain-mlogloss:0.37802\tvalid-mlogloss:0.39453\n",
      "[120]\ttrain-mlogloss:0.36831\tvalid-mlogloss:0.38937\n",
      "[140]\ttrain-mlogloss:0.35988\tvalid-mlogloss:0.38533\n",
      "[160]\ttrain-mlogloss:0.35265\tvalid-mlogloss:0.38276\n",
      "[180]\ttrain-mlogloss:0.34621\tvalid-mlogloss:0.38058\n",
      "[200]\ttrain-mlogloss:0.34046\tvalid-mlogloss:0.37899\n",
      "[220]\ttrain-mlogloss:0.33474\tvalid-mlogloss:0.37744\n",
      "[240]\ttrain-mlogloss:0.32949\tvalid-mlogloss:0.37627\n",
      "[260]\ttrain-mlogloss:0.32440\tvalid-mlogloss:0.37534\n",
      "[280]\ttrain-mlogloss:0.31968\tvalid-mlogloss:0.37432\n",
      "[300]\ttrain-mlogloss:0.31521\tvalid-mlogloss:0.37356\n",
      "[320]\ttrain-mlogloss:0.31080\tvalid-mlogloss:0.37277\n",
      "[340]\ttrain-mlogloss:0.30650\tvalid-mlogloss:0.37217\n",
      "[360]\ttrain-mlogloss:0.30232\tvalid-mlogloss:0.37169\n",
      "[380]\ttrain-mlogloss:0.29827\tvalid-mlogloss:0.37150\n",
      "[400]\ttrain-mlogloss:0.29435\tvalid-mlogloss:0.37113\n",
      "[420]\ttrain-mlogloss:0.29048\tvalid-mlogloss:0.37124\n",
      "[440]\ttrain-mlogloss:0.28676\tvalid-mlogloss:0.37104\n",
      "[460]\ttrain-mlogloss:0.28316\tvalid-mlogloss:0.37083\n",
      "[480]\ttrain-mlogloss:0.27963\tvalid-mlogloss:0.37086\n",
      "[500]\ttrain-mlogloss:0.27620\tvalid-mlogloss:0.37061\n",
      "[520]\ttrain-mlogloss:0.27287\tvalid-mlogloss:0.37052\n",
      "[540]\ttrain-mlogloss:0.26936\tvalid-mlogloss:0.37061\n",
      "[560]\ttrain-mlogloss:0.26606\tvalid-mlogloss:0.37039\n",
      "[580]\ttrain-mlogloss:0.26298\tvalid-mlogloss:0.37016\n",
      "[600]\ttrain-mlogloss:0.25978\tvalid-mlogloss:0.37028\n",
      "[620]\ttrain-mlogloss:0.25664\tvalid-mlogloss:0.37013\n",
      "[640]\ttrain-mlogloss:0.25350\tvalid-mlogloss:0.37000\n",
      "[660]\ttrain-mlogloss:0.25052\tvalid-mlogloss:0.37012\n",
      "[680]\ttrain-mlogloss:0.24756\tvalid-mlogloss:0.37009\n",
      "[691]\ttrain-mlogloss:0.24598\tvalid-mlogloss:0.37015\n"
     ]
    }
   ],
   "source": [
    "## Now Goes to XGBoost!\n",
    "\n",
    "cols_to_drop = ['index', 'text']\n",
    "train_X = train.drop(cols_to_drop+['author'], axis=1)\n",
    "train_y=train['author']\n",
    "test_index = test['index'].values\n",
    "test_X = test.drop(cols_to_drop, axis=1)\n",
    "xgb_preds=[]\n",
    "kf = model_selection.KFold(n_splits=5, shuffle=True, random_state=2020)\n",
    "\n",
    "for dev_index, val_index in kf.split(train_X):\n",
    "    dev_X, val_X = train_X.loc[dev_index], train_X.loc[val_index]\n",
    "    dev_y, val_y = train_y[dev_index], train_y[val_index]\n",
    "    \n",
    "    dtrain = xgb.DMatrix(dev_X,label=dev_y)\n",
    "    dvalid = xgb.DMatrix(val_X, label=val_y)\n",
    "    watchlist = [(dtrain, 'train'), (dvalid, 'valid')]\n",
    "   \n",
    "    \n",
    "    param = {}\n",
    "    param['objective'] = 'multi:softprob'\n",
    "    param['eta'] = 0.1\n",
    "    param['max_depth'] = 3\n",
    "    param['silent'] = 1\n",
    "    param['num_class'] = 5\n",
    "    param['eval_metric'] = \"mlogloss\"\n",
    "    param['min_child_weight'] = 1\n",
    "    param['subsample'] = 0.8\n",
    "    param['colsample_bytree'] = 0.3\n",
    "    param['seed'] = 0\n",
    "    param['gpu_id'] = 0\n",
    "    #param['tree_method'] = 'gpu_hist'\n",
    "    #param['updater'] = 'grow_gpu'\n",
    "\n",
    "    model = xgb.train(param, dtrain, 2000, watchlist, early_stopping_rounds=50, verbose_eval=20,\n",
    "                     )\n",
    "\n",
    "    xgtest2 = xgb.DMatrix(test_X)\n",
    "    xgb_pred = model.predict(xgtest2, ntree_limit = model.best_ntree_limit)\n",
    "    xgb_preds.append(list(xgb_pred))\n",
    "#  tree_method = 'gpu_hist'\n",
    "#out_df = pd.DataFrame(pred_full_test)\n",
    "#out_df.columns = ['0','1','2','3','4']\n",
    "#out_df.insert(0, 'index', test_index)\n",
    "#out_df.to_csv(\"submission.csv\", index=False)"
   ]
  },
  {
   "cell_type": "code",
   "execution_count": 65,
   "metadata": {
    "id": "fQhaMkpuUNse"
   },
   "outputs": [],
   "source": [
    "#exporting submission file\n",
    "\n",
    "for i in range(len(xgb_preds[0])):\n",
    "    sum=0\n",
    "    for j in range(5):\n",
    "        sum+=xgb_preds[j][i]    \n",
    "    if(i==0):\n",
    "        preds=sum/5\n",
    "    else:\n",
    "        preds=np.vstack([preds,sum/5])\n",
    "\n",
    "preds=pd.DataFrame(preds)\n",
    "\n",
    "preds.to_csv('submission5.csv')"
   ]
  },
  {
   "cell_type": "code",
   "execution_count": 63,
   "metadata": {
    "id": "_c-RSkWIUMJH"
   },
   "outputs": [
    {
     "data": {
      "image/png": "[encoded data removed]",
      "text/plain": [
       "<Figure size 864x864 with 1 Axes>"
      ]
     },
     "metadata": {
      "needs_background": "light"
     },
     "output_type": "display_data"
    }
   ],
   "source": [
    "#Bonus? \n",
    "\n",
    "fig, ax = plt.subplots(figsize=(12,12))\n",
    "xgb.plot_importance(model, max_num_features=80, height=0.8, ax=ax)\n",
    "plt.show()"
   ]
  }
 ],
 "metadata": {
  "colab": {
   "name": "소설 속 문장뭉치 분석을 통한 저자 예측_xgboost.ipynb",
   "provenance": [],
   "toc_visible": true
  },
  "kernelspec": {
   "display_name": "Python 3",
   "language": "python",
   "name": "python3"
  },
  "language_info": {
   "codemirror_mode": {
    "name": "ipython",
    "version": 3
   },
   "file_extension": ".py",
   "mimetype": "text/x-python",
   "name": "python",
   "nbconvert_exporter": "python",
   "pygments_lexer": "ipython3",
   "version": "3.8.5"
  }
 },
 "nbformat": 4,
 "nbformat_minor": 1
}
