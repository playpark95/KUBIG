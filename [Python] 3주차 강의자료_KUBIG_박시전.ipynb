{
  "nbformat": 4,
  "nbformat_minor": 0,
  "metadata": {
    "kernelspec": {
      "display_name": "Python 3",
      "language": "python",
      "name": "python3"
    },
    "language_info": {
      "codemirror_mode": {
        "name": "ipython",
        "version": 3
      },
      "file_extension": ".py",
      "mimetype": "text/x-python",
      "name": "python",
      "nbconvert_exporter": "python",
      "pygments_lexer": "ipython3",
      "version": "3.8.5"
    },
    "colab": {
      "name": "KUBIG.Crawling_LastSession.ipynb",
      "provenance": [],
      "collapsed_sections": [
        "phcRInwIuI1B"
      ]
    }
  },
  "cells": [
    {
      "cell_type": "code",
      "metadata": {
        "id": "5meHZ8dhuI01"
      },
      "source": [
        "import os\n",
        "os.chdir('G:/From 2021/2021/2021-Pre/공모전 마무리단계/최종 발표자료 제작 중/최종 제출자료/url list up/카페별 리스트업[시전,은지,가영 담당]')"
      ],
      "execution_count": null,
      "outputs": []
    },
    {
      "cell_type": "code",
      "metadata": {
        "id": "5zAq8kQfuI06"
      },
      "source": [
        "import pandas as pd"
      ],
      "execution_count": null,
      "outputs": []
    },
    {
      "cell_type": "code",
      "metadata": {
        "id": "u1ji17yOuI06"
      },
      "source": [
        "test = pd.read_csv('list-up_ediya_metropolitan+CBD.csv', encoding='cp949')"
      ],
      "execution_count": null,
      "outputs": []
    },
    {
      "cell_type": "code",
      "metadata": {
        "id": "K1vJMSDnuI06",
        "outputId": "b03f3d37-c9b3-40d0-fe48-db17b0eac8cc"
      },
      "source": [
        "test.head()"
      ],
      "execution_count": null,
      "outputs": [
        {
          "output_type": "execute_result",
          "data": {
            "text/html": [
              "<div>\n",
              "<style scoped>\n",
              "    .dataframe tbody tr th:only-of-type {\n",
              "        vertical-align: middle;\n",
              "    }\n",
              "\n",
              "    .dataframe tbody tr th {\n",
              "        vertical-align: top;\n",
              "    }\n",
              "\n",
              "    .dataframe thead th {\n",
              "        text-align: right;\n",
              "    }\n",
              "</style>\n",
              "<table border=\"1\" class=\"dataframe\">\n",
              "  <thead>\n",
              "    <tr style=\"text-align: right;\">\n",
              "      <th></th>\n",
              "      <th>순번</th>\n",
              "      <th>(광역)시명</th>\n",
              "      <th>행정구명</th>\n",
              "      <th>행정동명</th>\n",
              "      <th>지점명</th>\n",
              "      <th>주소</th>\n",
              "      <th>네이버지도 URL</th>\n",
              "      <th>네이버 텍스트 리뷰 개수</th>\n",
              "      <th>네이버 평균 별점(5.0 만점)</th>\n",
              "      <th>다음 지도 URL</th>\n",
              "      <th>다음 텍스트 리뷰 개수</th>\n",
              "      <th>다음 평균 별점(5.0 만점)</th>\n",
              "      <th>비고</th>\n",
              "    </tr>\n",
              "  </thead>\n",
              "  <tbody>\n",
              "    <tr>\n",
              "      <th>0</th>\n",
              "      <td>1.0</td>\n",
              "      <td>서울</td>\n",
              "      <td>마포구</td>\n",
              "      <td>서교동</td>\n",
              "      <td>이디야 서교동점</td>\n",
              "      <td>서울 마포구 와우산로29길 70</td>\n",
              "      <td>https://map.naver.com/v5/entry/place/37433262?...</td>\n",
              "      <td>24.0</td>\n",
              "      <td>4.12</td>\n",
              "      <td>https://place.map.kakao.com/27509023</td>\n",
              "      <td>27.0</td>\n",
              "      <td>1.4</td>\n",
              "      <td>1. 이디야의 경우 강남역 인근 상권에 점포수 0개라는 어마어마한 결과가 나와, 부...</td>\n",
              "    </tr>\n",
              "    <tr>\n",
              "      <th>1</th>\n",
              "      <td>2.0</td>\n",
              "      <td>서울</td>\n",
              "      <td>마포구</td>\n",
              "      <td>서교동</td>\n",
              "      <td>이디야커피 홍대청기와점</td>\n",
              "      <td>서울 마포구 월드컵북로 7</td>\n",
              "      <td>https://map.naver.com/v5/entry/place/35993418?...</td>\n",
              "      <td>36.0</td>\n",
              "      <td>4.25</td>\n",
              "      <td>https://place.map.kakao.com/26410594</td>\n",
              "      <td>4.0</td>\n",
              "      <td>2.5</td>\n",
              "      <td>2. 이디야와 이디야커피는 뭐가 다를까요?</td>\n",
              "    </tr>\n",
              "    <tr>\n",
              "      <th>2</th>\n",
              "      <td>3.0</td>\n",
              "      <td>서울</td>\n",
              "      <td>마포구</td>\n",
              "      <td>서교동</td>\n",
              "      <td>이디야커피 홍대중앙점</td>\n",
              "      <td>서울 마포구 양화로 124</td>\n",
              "      <td>https://map.naver.com/v5/entry/place/180656852...</td>\n",
              "      <td>82.0</td>\n",
              "      <td>4.26</td>\n",
              "      <td>https://place.map.kakao.com/867193348</td>\n",
              "      <td>3.0</td>\n",
              "      <td>4.0</td>\n",
              "      <td>3. 작성일자: 201124-201125</td>\n",
              "    </tr>\n",
              "    <tr>\n",
              "      <th>3</th>\n",
              "      <td>4.0</td>\n",
              "      <td>서울</td>\n",
              "      <td>마포구</td>\n",
              "      <td>서교동</td>\n",
              "      <td>이디야커피 홍익대점</td>\n",
              "      <td>서울 마포구 홍익로 10</td>\n",
              "      <td>https://map.naver.com/v5/entry/place/188442378...</td>\n",
              "      <td>32.0</td>\n",
              "      <td>4.26</td>\n",
              "      <td>https://place.map.kakao.com/274687770</td>\n",
              "      <td>2.0</td>\n",
              "      <td>3.5</td>\n",
              "      <td>4. 0은 사실상 결측치라고 보시면 될듯. 후술할 경우와는 달리 일단 지점이 등록은...</td>\n",
              "    </tr>\n",
              "    <tr>\n",
              "      <th>4</th>\n",
              "      <td>5.0</td>\n",
              "      <td>서울</td>\n",
              "      <td>마포구</td>\n",
              "      <td>창전동</td>\n",
              "      <td>이디야커피 홍대학원가점</td>\n",
              "      <td>서울 마포구 와우산로 148 창무예술원</td>\n",
              "      <td>https://map.naver.com/v5/entry/place/38758292?...</td>\n",
              "      <td>23.0</td>\n",
              "      <td>4.32</td>\n",
              "      <td>https://place.map.kakao.com/1698884493</td>\n",
              "      <td>3.0</td>\n",
              "      <td>3.3</td>\n",
              "      <td>5. 아예 카카오에 등록 자체가 안된 지점들이 일부 있었다고 합니다. 이런 경우는 ...</td>\n",
              "    </tr>\n",
              "  </tbody>\n",
              "</table>\n",
              "</div>"
            ],
            "text/plain": [
              "    순번 (광역)시명 행정구명 행정동명           지점명                     주소  \\\n",
              "0  1.0     서울  마포구  서교동      이디야 서교동점      서울 마포구 와우산로29길 70   \n",
              "1  2.0     서울  마포구  서교동  이디야커피 홍대청기와점         서울 마포구 월드컵북로 7   \n",
              "2  3.0     서울  마포구  서교동   이디야커피 홍대중앙점         서울 마포구 양화로 124   \n",
              "3  4.0     서울  마포구  서교동    이디야커피 홍익대점          서울 마포구 홍익로 10   \n",
              "4  5.0     서울  마포구  창전동  이디야커피 홍대학원가점  서울 마포구 와우산로 148 창무예술원   \n",
              "\n",
              "                                           네이버지도 URL  네이버 텍스트 리뷰 개수  \\\n",
              "0  https://map.naver.com/v5/entry/place/37433262?...           24.0   \n",
              "1  https://map.naver.com/v5/entry/place/35993418?...           36.0   \n",
              "2  https://map.naver.com/v5/entry/place/180656852...           82.0   \n",
              "3  https://map.naver.com/v5/entry/place/188442378...           32.0   \n",
              "4  https://map.naver.com/v5/entry/place/38758292?...           23.0   \n",
              "\n",
              "   네이버 평균 별점(5.0 만점)                               다음 지도 URL  다음 텍스트 리뷰 개수  \\\n",
              "0               4.12    https://place.map.kakao.com/27509023          27.0   \n",
              "1               4.25    https://place.map.kakao.com/26410594           4.0   \n",
              "2               4.26   https://place.map.kakao.com/867193348           3.0   \n",
              "3               4.26   https://place.map.kakao.com/274687770           2.0   \n",
              "4               4.32  https://place.map.kakao.com/1698884493           3.0   \n",
              "\n",
              "   다음 평균 별점(5.0 만점)                                                 비고  \n",
              "0               1.4  1. 이디야의 경우 강남역 인근 상권에 점포수 0개라는 어마어마한 결과가 나와, 부...  \n",
              "1               2.5                            2. 이디야와 이디야커피는 뭐가 다를까요?  \n",
              "2               4.0                             3. 작성일자: 201124-201125  \n",
              "3               3.5  4. 0은 사실상 결측치라고 보시면 될듯. 후술할 경우와는 달리 일단 지점이 등록은...  \n",
              "4               3.3  5. 아예 카카오에 등록 자체가 안된 지점들이 일부 있었다고 합니다. 이런 경우는 ...  "
            ]
          },
          "metadata": {
            "tags": []
          },
          "execution_count": 11
        }
      ]
    },
    {
      "cell_type": "code",
      "metadata": {
        "id": "QAZWMbRsuI07",
        "outputId": "47140115-9838-455d-d1f9-de4a7665e4b1"
      },
      "source": [
        "test.columns"
      ],
      "execution_count": null,
      "outputs": [
        {
          "output_type": "execute_result",
          "data": {
            "text/plain": [
              "Index(['순번', '(광역)시명', '행정구명', '행정동명', '지점명', '주소', '네이버지도 URL',\n",
              "       '네이버 텍스트 리뷰 개수', '네이버 평균 별점(5.0 만점)', '다음 지도 URL', '다음 텍스트 리뷰 개수',\n",
              "       '다음 평균 별점(5.0 만점)', '비고'],\n",
              "      dtype='object')"
            ]
          },
          "metadata": {
            "tags": []
          },
          "execution_count": 12
        }
      ]
    },
    {
      "cell_type": "code",
      "metadata": {
        "id": "0alVN5qnuI08",
        "outputId": "169c1f3c-156e-459f-e072-5aca005a3901"
      },
      "source": [
        "test['다음 지도 URL'].head()"
      ],
      "execution_count": null,
      "outputs": [
        {
          "output_type": "execute_result",
          "data": {
            "text/plain": [
              "0      https://place.map.kakao.com/27509023\n",
              "1      https://place.map.kakao.com/26410594\n",
              "2     https://place.map.kakao.com/867193348\n",
              "3     https://place.map.kakao.com/274687770\n",
              "4    https://place.map.kakao.com/1698884493\n",
              "Name: 다음 지도 URL, dtype: object"
            ]
          },
          "metadata": {
            "tags": []
          },
          "execution_count": 13
        }
      ]
    },
    {
      "cell_type": "code",
      "metadata": {
        "id": "-5foyesAuI08"
      },
      "source": [
        "dlink = test['다음 지도 URL']"
      ],
      "execution_count": null,
      "outputs": []
    },
    {
      "cell_type": "code",
      "metadata": {
        "id": "fb6jS2SduI08",
        "outputId": "7dcfb972-c274-410f-9a84-f98532ff0c08"
      },
      "source": [
        "len(dlink)"
      ],
      "execution_count": null,
      "outputs": [
        {
          "output_type": "execute_result",
          "data": {
            "text/plain": [
              "54"
            ]
          },
          "metadata": {
            "tags": []
          },
          "execution_count": 15
        }
      ]
    },
    {
      "cell_type": "code",
      "metadata": {
        "id": "GUesHhWAuI08"
      },
      "source": [
        "from bs4 import BeautifulSoup\n",
        "import urllib.request as req\n",
        "import urllib.parse as quote\n",
        "\n",
        "import time"
      ],
      "execution_count": null,
      "outputs": []
    },
    {
      "cell_type": "code",
      "metadata": {
        "id": "iYwklv5RuI09"
      },
      "source": [
        "from random import randint"
      ],
      "execution_count": null,
      "outputs": []
    },
    {
      "cell_type": "code",
      "metadata": {
        "id": "4FTVWwBOuI09"
      },
      "source": [
        "dlink = dlink.iloc[0:50]\n",
        "dlink = list(dlink)\n",
        "\n",
        "reviews = []\n",
        "\n",
        "for url in dlink:\n",
        "    time.sleep(randint(1,3))\n",
        "    html = req.urlopen(url)\n",
        "    doc = BeautifulSoup(html, 'lxml')\n",
        "    \n",
        "    end = len(doc.find_all(class_=\"txt_comment\"))\n",
        "    reviews.extend([doc.find_all(doc.find_all(class_=\"txt_comment\")[n].text for n in range(0,end))])"
      ],
      "execution_count": null,
      "outputs": []
    },
    {
      "cell_type": "code",
      "metadata": {
        "id": "PqHKYRvruI09",
        "outputId": "8227f041-3db4-401f-90bf-ff98b5503d66"
      },
      "source": [
        "print(doc.prettify())"
      ],
      "execution_count": null,
      "outputs": [
        {
          "output_type": "stream",
          "text": [
            "<!DOCTYPE html>\n",
            "<html lang=\"ko\">\n",
            " <head>\n",
            "  <meta charset=\"utf-8\"/>\n",
            "  <meta content=\"IE=Edge\" http-equiv=\"X-UA-Compatible\"/>\n",
            "  <title>\n",
            "   이디야커피 울산삼산중앙점 | 카카오맵\n",
            "  </title>\n",
            "  <meta content=\"이디야커피 울산삼산중앙점\" property=\"og:title\"/>\n",
            "  <meta content=\"카카오맵\" property=\"og:site_name\"/>\n",
            "  <meta content=\"울산 남구 돋질로302번길 27 (삼산동 1571-3)\" property=\"og:description\"/>\n",
            "  <meta content=\"website\" property=\"og:type\"/>\n",
            "  <meta content=\"http://map3.daum.net/staticmap/og?type=place&amp;srs=wcongnamul&amp;size=400x200&amp;m=1029979%2C574265\" property=\"og:image\"/>\n",
            "  <meta content=\"https://place.map.kakao.com/204901256\" property=\"og:url\"/>\n",
            "  <meta content=\"summary_large_image\" name=\"twitter:card\"/>\n",
            "  <meta content=\"이디야커피 울산삼산중앙점\" name=\"twitter:title\"/>\n",
            "  <meta content=\"울산 남구 돋질로302번길 27 (삼산동 1571-3)\" name=\"twitter:description\"/>\n",
            "  <meta content=\"http://map3.daum.net/staticmap/og?type=place&amp;srs=wcongnamul&amp;size=400x200&amp;m=1029979%2C574265\" name=\"twitter:image\"/>\n",
            "  <link href=\"//t1.daumcdn.net/localimg/localimages/07/common/kakaomap_favicon.ico\" rel=\"shortcut icon\"/>\n",
            "  <link href=\"//t1.daumcdn.net/kakaomapweb/place/jscss/pc.f252a14c.css\" rel=\"stylesheet\" type=\"text/css\"/>\n",
            " </head>\n",
            " <body>\n",
            "  <div id=\"kakaoIndex\">\n",
            "   <a href=\"#kakaoBody\">\n",
            "    본문 바로가기\n",
            "   </a>\n",
            "   <a href=\"#kakaoGnb\">\n",
            "    메뉴 바로가기\n",
            "   </a>\n",
            "  </div>\n",
            "  <div class=\"wrap_mapdetail\" id=\"kakaoWrap\">\n",
            "   <!-- 스크롤이 내려 왔을 때 클래스 lbar_on  -->\n",
            "   <div id=\"wrapMinidaum\">\n",
            "   </div>\n",
            "  </div>\n",
            "  <div id=\"daumWrap\" style=\"display:none;\">\n",
            "   <div id=\"daumContent\">\n",
            "    <div id=\"shareContainer\">\n",
            "    </div>\n",
            "   </div>\n",
            "  </div>\n",
            "  <script src=\"//ssl.daumcdn.net/dmaps/map_js_init/v3.js\" type=\"text/javascript\">\n",
            "  </script>\n",
            "  <script src=\"//t1.daumcdn.net/tiara/js/v1/tiara.min.js\" type=\"text/javascript\">\n",
            "  </script>\n",
            "  <script src=\"//t1.daumcdn.net/daumtop_deco/socialshare/socialshare_pc-2.4.3.js\" type=\"text/javascript\">\n",
            "  </script>\n",
            "  <script src=\"//t1.daumcdn.net/kas/static/na.min.js\" type=\"text/javascript\">\n",
            "  </script>\n",
            "  <script>\n",
            "   window.ENV = 'PROD';\n",
            "        window.browserversion = 'none0';\n",
            "        \n",
            "        // 티아라 초기화\n",
            "        try {\n",
            "            TiaraTracker.getInstance().init({\n",
            "                svcDomain: 'place.map.kakao.com',\n",
            "                deployment: window.ENV === 'PROD' ? 'production' : 'dev'\n",
            "            });\n",
            "        } catch(e) {}\n",
            "        window.needFiy = 'true';\n",
            "        window.needBlogReview = 'true';\n",
            "        window._cp = '';\n",
            "  </script>\n",
            "  <script src=\"//s1.daumcdn.net/svc/attach/U0301/cssjs/mm/1482483925476/Chart.min.js\" type=\"text/javascript\">\n",
            "  </script>\n",
            "  <script src=\"//t1.daumcdn.net/kakaomapweb/place/jscss/pc.820b96b8.js\" type=\"text/javascript\">\n",
            "  </script>\n",
            "  <!--\n",
            "    <script>\n",
            "        var minidaum_options = {\n",
            "            disableTracker: true, // 미니다음에서 tiara 사용안함\n",
            "            bgType: \"white\",\n",
            "            enableLogoutRetun: true,\n",
            "            returnUrl: '',\n",
            "            disableHotissue: true,\n",
            "            disableLogo:true,\n",
            "            enableShield: false\n",
            "        };\n",
            "    </script>\n",
            "    <script async src=\"//go.daum.net/jsa_minidaum_pc.daum\" charset=\"utf-8\" type=\"text/javascript\"></script>\n",
            "    -->\n",
            " </body>\n",
            "</html>\n",
            "\n"
          ],
          "name": "stdout"
        }
      ]
    },
    {
      "cell_type": "code",
      "metadata": {
        "id": "dc7OjHC1uI09",
        "outputId": "e37c802e-779d-4e75-8de9-b690ef3c487e"
      },
      "source": [
        "url0 = 'https://place.map.kakao.com/1052083352'\n",
        "html0 = req.urlopen(url0)\n",
        "doc0 = BeautifulSoup(html0, 'lxml')\n",
        "\n",
        "print(doc0.prettify())"
      ],
      "execution_count": null,
      "outputs": [
        {
          "output_type": "stream",
          "text": [
            "<!DOCTYPE html>\n",
            "<html lang=\"ko\">\n",
            " <head>\n",
            "  <meta charset=\"utf-8\"/>\n",
            "  <meta content=\"IE=Edge\" http-equiv=\"X-UA-Compatible\"/>\n",
            "  <title>\n",
            "   스타벅스 강남교보타워R점 | 카카오맵\n",
            "  </title>\n",
            "  <meta content=\"스타벅스 강남교보타워R점\" property=\"og:title\"/>\n",
            "  <meta content=\"카카오맵\" property=\"og:site_name\"/>\n",
            "  <meta content=\"서울 서초구 강남대로 465 1층 (서초동 1303-22)\" property=\"og:description\"/>\n",
            "  <meta content=\"website\" property=\"og:type\"/>\n",
            "  <meta content=\"http://map3.daum.net/staticmap/og?type=place&amp;srs=wcongnamul&amp;size=400x200&amp;m=505281%2C1112347\" property=\"og:image\"/>\n",
            "  <meta content=\"https://place.map.kakao.com/1052083352\" property=\"og:url\"/>\n",
            "  <meta content=\"summary_large_image\" name=\"twitter:card\"/>\n",
            "  <meta content=\"스타벅스 강남교보타워R점\" name=\"twitter:title\"/>\n",
            "  <meta content=\"서울 서초구 강남대로 465 1층 (서초동 1303-22)\" name=\"twitter:description\"/>\n",
            "  <meta content=\"http://map3.daum.net/staticmap/og?type=place&amp;srs=wcongnamul&amp;size=400x200&amp;m=505281%2C1112347\" name=\"twitter:image\"/>\n",
            "  <link href=\"//t1.daumcdn.net/localimg/localimages/07/common/kakaomap_favicon.ico\" rel=\"shortcut icon\"/>\n",
            "  <link href=\"//t1.daumcdn.net/kakaomapweb/place/jscss/pc.f252a14c.css\" rel=\"stylesheet\" type=\"text/css\"/>\n",
            " </head>\n",
            " <body>\n",
            "  <div id=\"kakaoIndex\">\n",
            "   <a href=\"#kakaoBody\">\n",
            "    본문 바로가기\n",
            "   </a>\n",
            "   <a href=\"#kakaoGnb\">\n",
            "    메뉴 바로가기\n",
            "   </a>\n",
            "  </div>\n",
            "  <div class=\"wrap_mapdetail\" id=\"kakaoWrap\">\n",
            "   <!-- 스크롤이 내려 왔을 때 클래스 lbar_on  -->\n",
            "   <div id=\"wrapMinidaum\">\n",
            "   </div>\n",
            "  </div>\n",
            "  <div id=\"daumWrap\" style=\"display:none;\">\n",
            "   <div id=\"daumContent\">\n",
            "    <div id=\"shareContainer\">\n",
            "    </div>\n",
            "   </div>\n",
            "  </div>\n",
            "  <script src=\"//ssl.daumcdn.net/dmaps/map_js_init/v3.js\" type=\"text/javascript\">\n",
            "  </script>\n",
            "  <script src=\"//t1.daumcdn.net/tiara/js/v1/tiara.min.js\" type=\"text/javascript\">\n",
            "  </script>\n",
            "  <script src=\"//t1.daumcdn.net/daumtop_deco/socialshare/socialshare_pc-2.4.3.js\" type=\"text/javascript\">\n",
            "  </script>\n",
            "  <script src=\"//t1.daumcdn.net/kas/static/na.min.js\" type=\"text/javascript\">\n",
            "  </script>\n",
            "  <script>\n",
            "   window.ENV = 'PROD';\n",
            "        window.browserversion = 'none0';\n",
            "        \n",
            "        // 티아라 초기화\n",
            "        try {\n",
            "            TiaraTracker.getInstance().init({\n",
            "                svcDomain: 'place.map.kakao.com',\n",
            "                deployment: window.ENV === 'PROD' ? 'production' : 'dev'\n",
            "            });\n",
            "        } catch(e) {}\n",
            "        window.needFiy = 'true';\n",
            "        window.needBlogReview = 'true';\n",
            "        window._cp = '';\n",
            "  </script>\n",
            "  <script src=\"//s1.daumcdn.net/svc/attach/U0301/cssjs/mm/1482483925476/Chart.min.js\" type=\"text/javascript\">\n",
            "  </script>\n",
            "  <script src=\"//t1.daumcdn.net/kakaomapweb/place/jscss/pc.820b96b8.js\" type=\"text/javascript\">\n",
            "  </script>\n",
            "  <!--\n",
            "    <script>\n",
            "        var minidaum_options = {\n",
            "            disableTracker: true, // 미니다음에서 tiara 사용안함\n",
            "            bgType: \"white\",\n",
            "            enableLogoutRetun: true,\n",
            "            returnUrl: '',\n",
            "            disableHotissue: true,\n",
            "            disableLogo:true,\n",
            "            enableShield: false\n",
            "        };\n",
            "    </script>\n",
            "    <script async src=\"//go.daum.net/jsa_minidaum_pc.daum\" charset=\"utf-8\" type=\"text/javascript\"></script>\n",
            "    -->\n",
            " </body>\n",
            "</html>\n",
            "\n"
          ],
          "name": "stdout"
        }
      ]
    },
    {
      "cell_type": "markdown",
      "metadata": {
        "id": "ofsVdZQLuI0-"
      },
      "source": [
        "## Now Using Seleniums"
      ]
    },
    {
      "cell_type": "code",
      "metadata": {
        "id": "hZlwN9XruI0-",
        "outputId": "5a41aea3-3f5b-4cea-8d9c-8902ec99cab2"
      },
      "source": [
        "pip install selenium"
      ],
      "execution_count": null,
      "outputs": [
        {
          "output_type": "stream",
          "text": [
            "Requirement already satisfied: selenium in c:\\programdata\\anaconda3\\lib\\site-packages (3.141.0)\n",
            "Requirement already satisfied: urllib3 in c:\\programdata\\anaconda3\\lib\\site-packages (from selenium) (1.25.11)\n",
            "Note: you may need to restart the kernel to use updated packages.\n"
          ],
          "name": "stdout"
        }
      ]
    },
    {
      "cell_type": "code",
      "metadata": {
        "id": "quOtmlS0uI0-"
      },
      "source": [
        "from selenium import webdriver\n",
        "from selenium.webdriver import ActionChains"
      ],
      "execution_count": null,
      "outputs": []
    },
    {
      "cell_type": "code",
      "metadata": {
        "scrolled": true,
        "id": "qXaEmRw9uI0_",
        "outputId": "c09c2d02-35df-444c-e34f-9434b2af24e1"
      },
      "source": [
        "os.getcwd()"
      ],
      "execution_count": null,
      "outputs": [
        {
          "output_type": "execute_result",
          "data": {
            "text/plain": [
              "'G:\\\\From 2021\\\\2021\\\\2021-Pre\\\\공모전 마무리단계\\\\최종 발표자료 제작 중\\\\최종 제출자료\\\\url list up\\\\카페별 리스트업[시전,은지,가영 담당]'"
            ]
          },
          "metadata": {
            "tags": []
          },
          "execution_count": 18
        }
      ]
    },
    {
      "cell_type": "code",
      "metadata": {
        "id": "fRIWVymJuI0_",
        "colab": {
          "base_uri": "https://localhost:8080/",
          "height": 186
        },
        "outputId": "590543af-63f1-4c15-ac5f-225e904c72b8"
      },
      "source": [
        "dlink2 = dlink[1:3]\n",
        "dlink2"
      ],
      "execution_count": null,
      "outputs": [
        {
          "output_type": "error",
          "ename": "NameError",
          "evalue": "ignored",
          "traceback": [
            "\u001b[0;31m---------------------------------------------------------------------------\u001b[0m",
            "\u001b[0;31mNameError\u001b[0m                                 Traceback (most recent call last)",
            "\u001b[0;32m<ipython-input-1-0e6dc31cf638>\u001b[0m in \u001b[0;36m<module>\u001b[0;34m()\u001b[0m\n\u001b[0;32m----> 1\u001b[0;31m \u001b[0mdlink2\u001b[0m \u001b[0;34m=\u001b[0m \u001b[0mdlink\u001b[0m\u001b[0;34m[\u001b[0m\u001b[0;36m1\u001b[0m\u001b[0;34m:\u001b[0m\u001b[0;36m3\u001b[0m\u001b[0;34m]\u001b[0m\u001b[0;34m\u001b[0m\u001b[0;34m\u001b[0m\u001b[0m\n\u001b[0m\u001b[1;32m      2\u001b[0m \u001b[0mdlink2\u001b[0m\u001b[0;34m\u001b[0m\u001b[0;34m\u001b[0m\u001b[0m\n",
            "\u001b[0;31mNameError\u001b[0m: name 'dlink' is not defined"
          ]
        }
      ]
    },
    {
      "cell_type": "code",
      "metadata": {
        "id": "xT2kx08TuI0_",
        "outputId": "a807172e-99d2-4d9b-f7d7-f3b08329473d"
      },
      "source": [
        "for i in range(len(dlink2)):\n",
        "    driver=webdriver.Chrome('./chromedriver.exe')\n",
        "    driver.implicitly_wait(3)\n",
        "    url = dlink[i]\n",
        "    driver.get(url)\n",
        "    time.sleep(3)\n",
        "    \n",
        "    pages = driver.find_elements_by_class_name('link_page')\n",
        "    reviews=[]\n",
        "    \n",
        "    for page in range(len(pages)):\n",
        "        try:\n",
        "            pages[page].click()\n",
        "        except:\n",
        "            print(\"Error\")\n",
        "    time.sleep(1)\n",
        "    comments = driver.find_elements_by_class_name(\"txt_comment\")\n",
        "    \n",
        "    reviews.extend([i.text for i in comments])\n",
        "    driver.close()"
      ],
      "execution_count": null,
      "outputs": [
        {
          "output_type": "stream",
          "text": [
            "Error\n"
          ],
          "name": "stdout"
        }
      ]
    },
    {
      "cell_type": "code",
      "metadata": {
        "id": "hmRtPaRBuI0_",
        "outputId": "b35245c9-94e9-4bdc-a6f9-93f6002e7af6"
      },
      "source": [
        "print(reviews)"
      ],
      "execution_count": null,
      "outputs": [
        {
          "output_type": "stream",
          "text": [
            "['오전에 방문했는데 한산합니다 다만 테이블이나 의자에 이쑤시개니 먼지가 육안으로 보이네요 청소를 조금 신경써야할거같아요 ', '평일 오후 2시쯤에 갔을때 있는 알바생 엄청 불친절합니다 거의 매일 오는데 최근부터 시작한 분인거 같은데 너무 불친절하네요 저녁에 계신분은 친절하시고 매장 자체는 생각보다 넓고 깔끔해서 5점 드리고 싶은데 알바생이 너무 짜증나서 2점 드려요', '생가보다 홀이 넓다', '좋아요']\n"
          ],
          "name": "stdout"
        }
      ]
    },
    {
      "cell_type": "code",
      "metadata": {
        "id": "DsaXG2dvuI1A",
        "outputId": "7720b4a1-5464-4ff8-b4d6-b2c2fdc60a86"
      },
      "source": [
        "pip install simplejson"
      ],
      "execution_count": null,
      "outputs": [
        {
          "output_type": "stream",
          "text": [
            "Collecting simplejson\n",
            "  Downloading simplejson-3.17.2.tar.gz (83 kB)\n",
            "Building wheels for collected packages: simplejson\n",
            "  Building wheel for simplejson (setup.py): started\n",
            "  Building wheel for simplejson (setup.py): finished with status 'done'\n",
            "  Created wheel for simplejson: filename=simplejson-3.17.2-py3-none-any.whl size=55464 sha256=085c1b9a8c1770a31729326d7f5212860daaae80245af5c60a601ba990851e7c\n",
            "  Stored in directory: c:\\users\\playp\\appdata\\local\\pip\\cache\\wheels\\17\\72\\7d\\df0984c925921e22322ea462a6f861e9d0617881192deb9b8d\n",
            "Successfully built simplejson\n",
            "Installing collected packages: simplejson\n",
            "Successfully installed simplejson-3.17.2\n",
            "Note: you may need to restart the kernel to use updated packages.\n"
          ],
          "name": "stdout"
        }
      ]
    },
    {
      "cell_type": "code",
      "metadata": {
        "id": "cqA0LwShuI1A",
        "outputId": "77da8652-13ff-484f-e068-37a71a462d86"
      },
      "source": [
        "from konlpy.tag import Okt\n",
        "from collections import Counter\n",
        "import pytagcloud"
      ],
      "execution_count": null,
      "outputs": [
        {
          "output_type": "stream",
          "text": [
            "pygame 2.0.1 (SDL 2.0.14, Python 3.8.5)\n",
            "Hello from the pygame community. https://www.pygame.org/contribute.html\n"
          ],
          "name": "stdout"
        }
      ]
    },
    {
      "cell_type": "code",
      "metadata": {
        "id": "vgGoT7gnuI1A"
      },
      "source": [
        "words = []\n",
        "\n",
        "for i, review in enumerate(reviews):\n",
        "    okt = Okt()\n",
        "    for word in okt.pos(review, stem=True):\n",
        "        if word[1] in ['Adjective']:\n",
        "            words.append(word[0])"
      ],
      "execution_count": null,
      "outputs": []
    },
    {
      "cell_type": "code",
      "metadata": {
        "scrolled": true,
        "id": "M5uNTfrwuI1A",
        "outputId": "66f8ba4b-2cfe-49bc-e6bc-45ef574c0267"
      },
      "source": [
        "words"
      ],
      "execution_count": null,
      "outputs": [
        {
          "output_type": "execute_result",
          "data": {
            "text/plain": [
              "['한산하다',\n",
              " '같다',\n",
              " '있다',\n",
              " '불친절하다',\n",
              " '같다',\n",
              " '불친절하다',\n",
              " '친절하다',\n",
              " '넓다',\n",
              " '깔끔하다',\n",
              " '짜증나다',\n",
              " '넓다',\n",
              " '좋다']"
            ]
          },
          "metadata": {
            "tags": []
          },
          "execution_count": 24
        }
      ]
    },
    {
      "cell_type": "code",
      "metadata": {
        "id": "m-nXfDUDuI1B",
        "outputId": "c694f236-9fae-492e-e0ef-1a43fd0761d5"
      },
      "source": [
        "words_unique = set(words)\n",
        "print(words_unique)"
      ],
      "execution_count": null,
      "outputs": [
        {
          "output_type": "stream",
          "text": [
            "{'친절하다', '넓다', '같다', '불친절하다', '있다', '깔끔하다', '한산하다', '짜증나다', '좋다'}\n"
          ],
          "name": "stdout"
        }
      ]
    },
    {
      "cell_type": "markdown",
      "metadata": {
        "id": "phcRInwIuI1B"
      },
      "source": [
        "#### Dealing with Errors:\n",
        "#### \n",
        "- Java 미설치 오류: https://stricky.tistory.com/398 , https://chan-lab.tistory.com/15\n",
        "- InvalidPathException: https://needjarvis.tistory.com/642\n",
        "- 기타_venv 설치: https://docs.python.org/ko/3/tutorial/venv.html\n",
        "    - 설치해야하는 이유는 고려대 코딩 샤우팅 방 참고"
      ]
    },
    {
      "cell_type": "code",
      "metadata": {
        "id": "2AcGyodsuI1B"
      },
      "source": [
        "import platform\n",
        "print(platform.architecture())"
      ],
      "execution_count": null,
      "outputs": []
    },
    {
      "cell_type": "code",
      "metadata": {
        "id": "vBd-mnPeuI1B"
      },
      "source": [
        "import sys"
      ],
      "execution_count": null,
      "outputs": []
    },
    {
      "cell_type": "code",
      "metadata": {
        "id": "4R3KjzkXuI1B"
      },
      "source": [
        "print(sys.version)"
      ],
      "execution_count": null,
      "outputs": []
    },
    {
      "cell_type": "code",
      "metadata": {
        "id": "rIHVDN7SuI1B"
      },
      "source": [
        "import os\n",
        "os.chdir('C:/Users/playp/Downloads')"
      ],
      "execution_count": null,
      "outputs": []
    },
    {
      "cell_type": "code",
      "metadata": {
        "scrolled": true,
        "id": "a1v4GumJuI1C",
        "outputId": "b78944fd-0274-4e10-8eec-4fcfa63e8002"
      },
      "source": [
        "pip install --user JPype1-1.2.0-cp38-cp38-win_amd64.whl"
      ],
      "execution_count": null,
      "outputs": [
        {
          "output_type": "stream",
          "text": [
            "Processing c:\\users\\playp\\downloads\\jpype1-1.2.0-cp38-cp38-win_amd64.whl\n",
            "Installing collected packages: JPype1\n",
            "Successfully installed JPype1-1.2.0\n",
            "Note: you may need to restart the kernel to use updated packages.\n"
          ],
          "name": "stdout"
        }
      ]
    },
    {
      "cell_type": "code",
      "metadata": {
        "id": "WgRd90QuuI1C",
        "outputId": "7b4015d4-805c-43c4-a3a2-421065e674c8"
      },
      "source": [
        "pip install konlpy"
      ],
      "execution_count": null,
      "outputs": [
        {
          "output_type": "stream",
          "text": [
            "Requirement already satisfied: konlpy in c:\\users\\playp\\appdata\\roaming\\python\\python38\\site-packages (0.5.2)\n",
            "Requirement already satisfied: tweepy>=3.7.0 in c:\\users\\playp\\appdata\\roaming\\python\\python38\\site-packages (from konlpy) (3.10.0)\n",
            "Requirement already satisfied: colorama in c:\\programdata\\anaconda3\\lib\\site-packages (from konlpy) (0.4.4)\n",
            "Requirement already satisfied: beautifulsoup4==4.6.0 in c:\\users\\playp\\appdata\\roaming\\python\\python38\\site-packages (from konlpy) (4.6.0)\n",
            "Requirement already satisfied: JPype1>=0.7.0 in c:\\users\\playp\\appdata\\roaming\\python\\python38\\site-packages (from konlpy) (1.2.0)\n",
            "Requirement already satisfied: numpy>=1.6 in c:\\programdata\\anaconda3\\lib\\site-packages (from konlpy) (1.19.2)\n",
            "Requirement already satisfied: lxml>=4.1.0 in c:\\programdata\\anaconda3\\lib\\site-packages (from konlpy) (4.6.1)\n",
            "Requirement already satisfied: six>=1.10.0 in c:\\programdata\\anaconda3\\lib\\site-packages (from tweepy>=3.7.0->konlpy) (1.15.0)\n",
            "Requirement already satisfied: requests-oauthlib>=0.7.0 in c:\\programdata\\anaconda3\\lib\\site-packages (from tweepy>=3.7.0->konlpy) (1.3.0)\n",
            "Requirement already satisfied: requests[socks]>=2.11.1 in c:\\programdata\\anaconda3\\lib\\site-packages (from tweepy>=3.7.0->konlpy) (2.24.0)\n",
            "Requirement already satisfied: oauthlib>=3.0.0 in c:\\programdata\\anaconda3\\lib\\site-packages (from requests-oauthlib>=0.7.0->tweepy>=3.7.0->konlpy) (3.1.0)\n",
            "Requirement already satisfied: idna<3,>=2.5 in c:\\programdata\\anaconda3\\lib\\site-packages (from requests[socks]>=2.11.1->tweepy>=3.7.0->konlpy) (2.10)\n",
            "Requirement already satisfied: urllib3!=1.25.0,!=1.25.1,<1.26,>=1.21.1 in c:\\programdata\\anaconda3\\lib\\site-packages (from requests[socks]>=2.11.1->tweepy>=3.7.0->konlpy) (1.25.11)\n",
            "Requirement already satisfied: certifi>=2017.4.17 in c:\\programdata\\anaconda3\\lib\\site-packages (from requests[socks]>=2.11.1->tweepy>=3.7.0->konlpy) (2020.6.20)\n",
            "Requirement already satisfied: chardet<4,>=3.0.2 in c:\\programdata\\anaconda3\\lib\\site-packages (from requests[socks]>=2.11.1->tweepy>=3.7.0->konlpy) (3.0.4)\n",
            "Requirement already satisfied: PySocks!=1.5.7,>=1.5.6; extra == \"socks\" in c:\\programdata\\anaconda3\\lib\\site-packages (from requests[socks]>=2.11.1->tweepy>=3.7.0->konlpy) (1.7.1)Note: you may need to restart the kernel to use updated packages.\n"
          ],
          "name": "stdout"
        }
      ]
    },
    {
      "cell_type": "code",
      "metadata": {
        "id": "EOVlCv74uI1C",
        "outputId": "c018de8f-a85f-4004-b711-6a19ad5ddd28"
      },
      "source": [
        "import konlpy\n",
        "\n",
        "words = []\n",
        "\n",
        "for i, review in enumerate(reviews):\n",
        "    okt = Okt()\n",
        "    for word in okt.pos(review, stem=True):\n",
        "        if word[1] in ['Adjective']:\n",
        "            words.append(word[0])"
      ],
      "execution_count": null,
      "outputs": [
        {
          "output_type": "error",
          "ename": "AttributeError",
          "evalue": "module 'importlib.util' has no attribute 'find_spec'",
          "traceback": [
            "\u001b[1;31m---------------------------------------------------------------------------\u001b[0m",
            "\u001b[1;31mAttributeError\u001b[0m                            Traceback (most recent call last)",
            "\u001b[1;32m<ipython-input-72-8d004d2ed190>\u001b[0m in \u001b[0;36m<module>\u001b[1;34m\u001b[0m\n\u001b[0;32m      4\u001b[0m \u001b[1;33m\u001b[0m\u001b[0m\n\u001b[0;32m      5\u001b[0m \u001b[1;32mfor\u001b[0m \u001b[0mi\u001b[0m\u001b[1;33m,\u001b[0m \u001b[0mreview\u001b[0m \u001b[1;32min\u001b[0m \u001b[0menumerate\u001b[0m\u001b[1;33m(\u001b[0m\u001b[0mreviews\u001b[0m\u001b[1;33m)\u001b[0m\u001b[1;33m:\u001b[0m\u001b[1;33m\u001b[0m\u001b[1;33m\u001b[0m\u001b[0m\n\u001b[1;32m----> 6\u001b[1;33m     \u001b[0mokt\u001b[0m \u001b[1;33m=\u001b[0m \u001b[0mOkt\u001b[0m\u001b[1;33m(\u001b[0m\u001b[1;33m)\u001b[0m\u001b[1;33m\u001b[0m\u001b[1;33m\u001b[0m\u001b[0m\n\u001b[0m\u001b[0;32m      7\u001b[0m     \u001b[1;32mfor\u001b[0m \u001b[0mword\u001b[0m \u001b[1;32min\u001b[0m \u001b[0mokt\u001b[0m\u001b[1;33m.\u001b[0m\u001b[0mpos\u001b[0m\u001b[1;33m(\u001b[0m\u001b[0mreview\u001b[0m\u001b[1;33m,\u001b[0m \u001b[0mstem\u001b[0m\u001b[1;33m=\u001b[0m\u001b[1;32mTrue\u001b[0m\u001b[1;33m)\u001b[0m\u001b[1;33m:\u001b[0m\u001b[1;33m\u001b[0m\u001b[1;33m\u001b[0m\u001b[0m\n\u001b[0;32m      8\u001b[0m         \u001b[1;32mif\u001b[0m \u001b[0mword\u001b[0m\u001b[1;33m[\u001b[0m\u001b[1;36m1\u001b[0m\u001b[1;33m]\u001b[0m \u001b[1;32min\u001b[0m \u001b[1;33m[\u001b[0m\u001b[1;34m'Adjective'\u001b[0m\u001b[1;33m]\u001b[0m\u001b[1;33m:\u001b[0m\u001b[1;33m\u001b[0m\u001b[1;33m\u001b[0m\u001b[0m\n",
            "\u001b[1;32m~\\AppData\\Roaming\\Python\\Python38\\site-packages\\konlpy\\tag\\_okt.py\u001b[0m in \u001b[0;36m__init__\u001b[1;34m(self, jvmpath, max_heap_size)\u001b[0m\n\u001b[0;32m     89\u001b[0m     \u001b[1;32mdef\u001b[0m \u001b[0m__init__\u001b[0m\u001b[1;33m(\u001b[0m\u001b[0mself\u001b[0m\u001b[1;33m,\u001b[0m \u001b[0mjvmpath\u001b[0m\u001b[1;33m=\u001b[0m\u001b[1;32mNone\u001b[0m\u001b[1;33m,\u001b[0m \u001b[0mmax_heap_size\u001b[0m\u001b[1;33m=\u001b[0m\u001b[1;36m1024\u001b[0m\u001b[1;33m)\u001b[0m\u001b[1;33m:\u001b[0m\u001b[1;33m\u001b[0m\u001b[1;33m\u001b[0m\u001b[0m\n\u001b[0;32m     90\u001b[0m         \u001b[1;32mif\u001b[0m \u001b[1;32mnot\u001b[0m \u001b[0mjpype\u001b[0m\u001b[1;33m.\u001b[0m\u001b[0misJVMStarted\u001b[0m\u001b[1;33m(\u001b[0m\u001b[1;33m)\u001b[0m\u001b[1;33m:\u001b[0m\u001b[1;33m\u001b[0m\u001b[1;33m\u001b[0m\u001b[0m\n\u001b[1;32m---> 91\u001b[1;33m             \u001b[0mjvm\u001b[0m\u001b[1;33m.\u001b[0m\u001b[0minit_jvm\u001b[0m\u001b[1;33m(\u001b[0m\u001b[0mjvmpath\u001b[0m\u001b[1;33m,\u001b[0m \u001b[0mmax_heap_size\u001b[0m\u001b[1;33m)\u001b[0m\u001b[1;33m\u001b[0m\u001b[1;33m\u001b[0m\u001b[0m\n\u001b[0m\u001b[0;32m     92\u001b[0m \u001b[1;33m\u001b[0m\u001b[0m\n\u001b[0;32m     93\u001b[0m         \u001b[0moktJavaPackage\u001b[0m \u001b[1;33m=\u001b[0m \u001b[0mjpype\u001b[0m\u001b[1;33m.\u001b[0m\u001b[0mJPackage\u001b[0m\u001b[1;33m(\u001b[0m\u001b[1;34m'kr.lucypark.okt'\u001b[0m\u001b[1;33m)\u001b[0m\u001b[1;33m\u001b[0m\u001b[1;33m\u001b[0m\u001b[0m\n",
            "\u001b[1;32m~\\AppData\\Roaming\\Python\\Python38\\site-packages\\konlpy\\jvm.py\u001b[0m in \u001b[0;36minit_jvm\u001b[1;34m(jvmpath, max_heap_size)\u001b[0m\n\u001b[0;32m     62\u001b[0m \u001b[1;33m\u001b[0m\u001b[0m\n\u001b[0;32m     63\u001b[0m     \u001b[1;32mif\u001b[0m \u001b[0mjvmpath\u001b[0m\u001b[1;33m:\u001b[0m\u001b[1;33m\u001b[0m\u001b[1;33m\u001b[0m\u001b[0m\n\u001b[1;32m---> 64\u001b[1;33m         jpype.startJVM(jvmpath, '-Djava.class.path=%s' % classpath,\n\u001b[0m\u001b[0;32m     65\u001b[0m                                 \u001b[1;34m'-Dfile.encoding=UTF8'\u001b[0m\u001b[1;33m,\u001b[0m\u001b[1;33m\u001b[0m\u001b[1;33m\u001b[0m\u001b[0m\n\u001b[0;32m     66\u001b[0m                                 \u001b[1;34m'-ea'\u001b[0m\u001b[1;33m,\u001b[0m \u001b[1;34m'-Xmx{}m'\u001b[0m\u001b[1;33m.\u001b[0m\u001b[0mformat\u001b[0m\u001b[1;33m(\u001b[0m\u001b[0mmax_heap_size\u001b[0m\u001b[1;33m)\u001b[0m\u001b[1;33m,\u001b[0m\u001b[1;33m\u001b[0m\u001b[1;33m\u001b[0m\u001b[0m\n",
            "\u001b[1;32mC:\\ProgramData\\Anaconda3\\lib\\site-packages\\jpype\\_core.py\u001b[0m in \u001b[0;36mstartJVM\u001b[1;34m(*args, **kwargs)\u001b[0m\n",
            "\u001b[1;31mAttributeError\u001b[0m: module 'importlib.util' has no attribute 'find_spec'"
          ]
        }
      ]
    },
    {
      "cell_type": "code",
      "metadata": {
        "id": "99-ZFfyuuI1C"
      },
      "source": [
        "import importlib\n",
        "from importlib import util"
      ],
      "execution_count": null,
      "outputs": []
    },
    {
      "cell_type": "code",
      "metadata": {
        "id": "OVkAQKbOuI1C"
      },
      "source": [
        "#check to see if nmap module is installed\n",
        "find_nmap = util.find_spec(\"nmap\")\n",
        "if find_nmap is None:\n",
        "    print(\"Error\")"
      ],
      "execution_count": null,
      "outputs": []
    },
    {
      "cell_type": "code",
      "metadata": {
        "id": "OzRJ7Ov4uI1D",
        "outputId": "f7c61754-6c40-4c0d-d0e8-c744a486364e"
      },
      "source": [
        "pip install nmap"
      ],
      "execution_count": null,
      "outputs": [
        {
          "output_type": "stream",
          "text": [
            "Collecting nmap\n",
            "  Downloading nmap-0.0.1-py3-none-any.whl (2.7 kB)\n",
            "Installing collected packages: nmap\n",
            "Successfully installed nmap-0.0.1\n",
            "Note: you may need to restart the kernel to use updated packages.\n"
          ],
          "name": "stdout"
        }
      ]
    },
    {
      "cell_type": "code",
      "metadata": {
        "id": "FGonYI7guI1D"
      },
      "source": [
        ""
      ],
      "execution_count": null,
      "outputs": []
    }
  ]
}